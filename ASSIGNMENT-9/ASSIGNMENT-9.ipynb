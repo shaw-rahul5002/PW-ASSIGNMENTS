{
 "cells": [
  {
   "cell_type": "markdown",
   "id": "5e9c9bec-7e98-4ea1-aac0-83c54f512f1b",
   "metadata": {},
   "source": [
    "### [Q1.] Explain why we have to use the Exception class while creating a Custom Exception."
   ]
  },
  {
   "cell_type": "markdown",
   "id": "257da232-b50e-4602-b6db-a416844295eb",
   "metadata": {},
   "source": [
    "#### [Ans]\n",
    "We have to use the Exception class while creating a Custom Exception because it helps to improve the readability of your code , enhance reuseability of features and provide custom messages to users for specific use cases."
   ]
  },
  {
   "cell_type": "markdown",
   "id": "fd07c3dd-fa55-412c-87ad-4eee6a83ba83",
   "metadata": {},
   "source": [
    "### [Q2.] Write a python program to print Python Exception Hierarchy."
   ]
  },
  {
   "cell_type": "markdown",
   "id": "84afd068-c39a-4b67-8348-2817ab90daed",
   "metadata": {},
   "source": [
    "#### [Ans]"
   ]
  },
  {
   "cell_type": "code",
   "execution_count": null,
   "id": "65db8cd1-de22-4ea6-a3c6-21f1c4fd8b04",
   "metadata": {},
   "outputs": [],
   "source": [
    "def print_exception_hierarchy(exception_class , level=0):\n",
    "    indent = '     ' * level\n",
    "    print(f'{indent}{exception_class.__name__}')\n",
    "    \n",
    "    if exception_class.__bases__:\n",
    "        for base_class in exception_class.__bases__:\n",
    "            print_exception_hierarchy(base_class, level+1)"
   ]
  },
  {
   "cell_type": "markdown",
   "id": "7bbda597-e119-4a88-bdd0-2aaf4a355a36",
   "metadata": {},
   "source": [
    "### [Q3.] What errors are defined in the ArithmeticError class? Explain any two with an example."
   ]
  },
  {
   "cell_type": "markdown",
   "id": "f8ba0b13-2b4e-407d-8d68-8a1bae26f57d",
   "metadata": {},
   "source": [
    "#### [Ans]\n",
    "The ArthimeticError class is a built-in exception class in Python that is raised when an arithmetic operation fails. Some of the errors that are defined in the ArithmeticError class include:\n",
    "\n",
    "[1.] ZeroDivisionError\n",
    "\n",
    "[2.] OverflowError\n",
    "\n",
    "[3.] FloatingPointError\n",
    "\n",
    "[4.] ValueError\n",
    "\n",
    "\n",
    "ZeroDivisionError :- Raised when the second operand of a division or modulo operation is zero.\n",
    "\n",
    "ValueError :- Raised when an argumenr is of the correct type but has an inappropriate value."
   ]
  },
  {
   "cell_type": "code",
   "execution_count": 5,
   "id": "07558df1-9a6b-4f0f-8c6d-57d1a760e904",
   "metadata": {},
   "outputs": [
    {
     "name": "stdin",
     "output_type": "stream",
     "text": [
      "ENTER THE NUMBER : P\n"
     ]
    },
    {
     "name": "stdout",
     "output_type": "stream",
     "text": [
      "INVALID INPUT , PLEASE ENTER A NUMBER\n",
      "THANK YOU FOR USING THIS PROGRAM\n"
     ]
    }
   ],
   "source": [
    "# EXAMPLE :\n",
    "try:\n",
    "    x = int(input(\"ENTER THE NUMBER :\"))\n",
    "    y = 10/x\n",
    "except ValueError:\n",
    "    print(\"INVALID INPUT , PLEASE ENTER A NUMBER\")\n",
    "except ZeroDivisionError:\n",
    "    print(\"CANNOT DIVIDE BY ZERO\")\n",
    "else:\n",
    "    print(\"THE RESULT IS :\" , y)\n",
    "finally:\n",
    "    print(\"THANK YOU FOR USING THIS PROGRAM\")\n",
    "            "
   ]
  },
  {
   "cell_type": "markdown",
   "id": "f51d6d70-daf4-42e8-8388-8c787b4f374d",
   "metadata": {},
   "source": [
    "### [Q4.] Why LookupError class is used? Explain with an example KeyError and IndexError."
   ]
  },
  {
   "cell_type": "markdown",
   "id": "470f0a88-a428-4f91-b6b7-1d3ded93fa8a",
   "metadata": {},
   "source": [
    "#### [Ans]\n",
    "The LookupError class is a built-in exception classs in Python that is raised when a key or index is not found in a dictionary or sequence. "
   ]
  },
  {
   "cell_type": "code",
   "execution_count": 6,
   "id": "5d82c371-6226-458b-9278-13146e5309be",
   "metadata": {},
   "outputs": [
    {
     "ename": "KeyError",
     "evalue": "'d'",
     "output_type": "error",
     "traceback": [
      "\u001b[0;31m---------------------------------------------------------------------------\u001b[0m",
      "\u001b[0;31mKeyError\u001b[0m                                  Traceback (most recent call last)",
      "Cell \u001b[0;32mIn [6], line 2\u001b[0m\n\u001b[1;32m      1\u001b[0m my_dict \u001b[38;5;241m=\u001b[39m {\u001b[38;5;124m'\u001b[39m\u001b[38;5;124ma\u001b[39m\u001b[38;5;124m'\u001b[39m : \u001b[38;5;241m1\u001b[39m , \u001b[38;5;124m'\u001b[39m\u001b[38;5;124mb\u001b[39m\u001b[38;5;124m'\u001b[39m : \u001b[38;5;241m2\u001b[39m , \u001b[38;5;124m'\u001b[39m\u001b[38;5;124mc\u001b[39m\u001b[38;5;124m'\u001b[39m : \u001b[38;5;241m3\u001b[39m}\n\u001b[0;32m----> 2\u001b[0m \u001b[43mmy_dict\u001b[49m\u001b[43m[\u001b[49m\u001b[38;5;124;43m'\u001b[39;49m\u001b[38;5;124;43md\u001b[39;49m\u001b[38;5;124;43m'\u001b[39;49m\u001b[43m]\u001b[49m\n",
      "\u001b[0;31mKeyError\u001b[0m: 'd'"
     ]
    }
   ],
   "source": [
    "# EXAMPLE OF KeyError :\n",
    "my_dict = {'a' : 1 , 'b' : 2 , 'c' : 3}\n",
    "my_dict['d']"
   ]
  },
  {
   "cell_type": "code",
   "execution_count": 7,
   "id": "9e9ef321-d3af-46d1-8152-5f781e89a2b5",
   "metadata": {},
   "outputs": [
    {
     "ename": "IndexError",
     "evalue": "list index out of range",
     "output_type": "error",
     "traceback": [
      "\u001b[0;31m---------------------------------------------------------------------------\u001b[0m",
      "\u001b[0;31mIndexError\u001b[0m                                Traceback (most recent call last)",
      "Cell \u001b[0;32mIn [7], line 2\u001b[0m\n\u001b[1;32m      1\u001b[0m my_list \u001b[38;5;241m=\u001b[39m [\u001b[38;5;241m1\u001b[39m,\u001b[38;5;241m2\u001b[39m,\u001b[38;5;241m3\u001b[39m]\n\u001b[0;32m----> 2\u001b[0m \u001b[43mmy_list\u001b[49m\u001b[43m[\u001b[49m\u001b[38;5;241;43m3\u001b[39;49m\u001b[43m]\u001b[49m\n",
      "\u001b[0;31mIndexError\u001b[0m: list index out of range"
     ]
    }
   ],
   "source": [
    "# EXAMPLE OF IndexError :\n",
    "my_list = [1,2,3]\n",
    "my_list[3]"
   ]
  },
  {
   "cell_type": "markdown",
   "id": "bbe333c1-19c9-4a2d-8d6b-89a1acd8c99a",
   "metadata": {},
   "source": [
    "### [Q5.] Explain ImportError. What is ModuleNotFoundError?"
   ]
  },
  {
   "cell_type": "markdown",
   "id": "3dcddad8-a1c4-47b3-a696-3db9d119c484",
   "metadata": {},
   "source": [
    "#### [Ans]\n",
    "ImportError :- The ImportError class is a built-in exception class in Python is raised when an import statement fails to find the module definition or when a module fails to initialize correctly.\n",
    "\n",
    "ModuleNotFoundError :- The ModuleNotFoundError class is a built-in exception class in Python that is raised when a module could not be found during an import statement."
   ]
  },
  {
   "cell_type": "markdown",
   "id": "08842eb6-1f02-49bd-89a4-e31e6fd16039",
   "metadata": {},
   "source": [
    "### [Q6.] List down some best practices for exception handling in python."
   ]
  },
  {
   "cell_type": "markdown",
   "id": "b4d0dfd6-90a8-48e4-9dd0-6c3e322311a1",
   "metadata": {},
   "source": [
    "#### [Ans]\n",
    "Here  are some best practices for exception handling in Python:\n",
    "[1.] Always handle exceptions.\n",
    "\n",
    "[2.] Use specific exception types.\n",
    "\n",
    "[3.] Use try / except blocks.\n",
    "\n",
    "[4.] Use finally blocks.\n",
    "\n",
    "[5.] Don't use exception for flow control.\n",
    "\n",
    "[6.] Use 'with' statements.\n",
    "\n",
    "[7.] Provide useful error messages.\n",
    "\n",
    "[8.] Log exceptions."
   ]
  },
  {
   "cell_type": "code",
   "execution_count": null,
   "id": "b6b512f2-919f-4dc0-9c54-a71f4b6be11e",
   "metadata": {},
   "outputs": [],
   "source": []
  }
 ],
 "metadata": {
  "kernelspec": {
   "display_name": "Python 3 (ipykernel)",
   "language": "python",
   "name": "python3"
  },
  "language_info": {
   "codemirror_mode": {
    "name": "ipython",
    "version": 3
   },
   "file_extension": ".py",
   "mimetype": "text/x-python",
   "name": "python",
   "nbconvert_exporter": "python",
   "pygments_lexer": "ipython3",
   "version": "3.10.6"
  }
 },
 "nbformat": 4,
 "nbformat_minor": 5
}
