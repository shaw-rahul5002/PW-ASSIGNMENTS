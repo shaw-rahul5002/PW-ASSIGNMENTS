{
 "cells": [
  {
   "cell_type": "markdown",
   "id": "761775b3-0bab-49a1-be0b-cb229a5ff448",
   "metadata": {},
   "source": [
    "### [Q1.] What is multithreading in python? Why is it used? Name the module used to handle threads in python"
   ]
  },
  {
   "cell_type": "markdown",
   "id": "94ea85f8-d185-4db6-940a-b9d92988e06d",
   "metadata": {},
   "source": [
    "#### [Ans]\n",
    "Multithreading is a programming concept that allows multiple threads of execution to run concurrently within a single program.\n",
    "\n",
    "Multithreading is used in software development to improve the performance and responsiveness of applications.\n",
    "\n",
    "In Python, the 'threading' module is used to handle multithreading."
   ]
  },
  {
   "cell_type": "markdown",
   "id": "4883670b-2a6d-432f-97fc-bae9e7abd5c8",
   "metadata": {},
   "source": [
    "### [Q2.] Why threading module used? Write the use of the following functions:\n",
    "[1.] activeCount( )\n",
    "\n",
    "[2.] currentThread( )\n",
    "\n",
    "[3.] enumerate( )"
   ]
  },
  {
   "cell_type": "markdown",
   "id": "cb90e6b7-b53e-4346-958d-31b6422cbc15",
   "metadata": {},
   "source": [
    "#### [Ans]\n",
    "The 'threading' module in Python is used to handle multithreading in Python applications.\n",
    "\n",
    "Uses :\n",
    "\n",
    "[1.] activeCount() :- It is used to return the number of active threads in the current process.\n",
    "\n",
    "[2.] currentThread() :- It is used to return the current thread object.\n",
    "\n",
    "[3.] enumerate() :- It is used to loop over an iterable object and keep track of the index of the current item."
   ]
  },
  {
   "cell_type": "markdown",
   "id": "f296500b-22c5-470f-82ae-629c51dc4e1b",
   "metadata": {},
   "source": [
    "### [Q3.] Explain the following functions :\n",
    "[1.] run( )\n",
    "\n",
    "[2.] start( )\n",
    "\n",
    "[3.] join( )\n",
    "\n",
    "[4.] isAlive( )"
   ]
  },
  {
   "cell_type": "markdown",
   "id": "a3774fb2-9409-4816-81e4-2a1f89dcb938",
   "metadata": {},
   "source": [
    "#### [Ans]\n",
    "The following functions are as follows:\n",
    "\n",
    "[1.] run( ) :- It is used to start a new thread of execution.\n",
    "\n",
    "[2.] start( ) :- It is used to start a new thread of execution.\n",
    "\n",
    "[3.] join( ) :- It is used to wait for a thread to complete before continuing with the rest of the program.\n",
    "\n",
    "[4.] isAlive( ) :- It is used to check whether a thread is currently running or has completed execution."
   ]
  },
  {
   "cell_type": "markdown",
   "id": "57c86125-7510-420f-9f29-daff2929a221",
   "metadata": {},
   "source": [
    "### [Q4.] Write a python program to create two threads. Thread one must print the list of squares and thread two must print the list of cubes"
   ]
  },
  {
   "cell_type": "code",
   "execution_count": 2,
   "id": "d6f2fd74-ced2-46b2-a0ed-05f154abd8c8",
   "metadata": {},
   "outputs": [
    {
     "name": "stdout",
     "output_type": "stream",
     "text": [
      "SQUARES : [1, 4, 9, 16, 25]\n",
      "CUBES : [1, 8, 27, 64, 125]\n"
     ]
    }
   ],
   "source": [
    "import threading\n",
    "def print_squares():\n",
    "    squares = [x**2 for x in range(1,6)]\n",
    "    print(\"SQUARES :\" , squares)\n",
    "    \n",
    "def print_cubes():\n",
    "    cubes = [x**3 for x in range(1,6)]\n",
    "    print(\"CUBES :\" ,cubes)\n",
    "    \n",
    "thread1 = threading.Thread(target=print_squares)\n",
    "thread2 = threading.Thread(target=print_cubes)\n",
    "thread1.start()\n",
    "thread2.start()\n",
    "thread1.join()\n",
    "thread2.join()"
   ]
  },
  {
   "cell_type": "markdown",
   "id": "633c575e-175e-400b-a4b2-1051d781a92a",
   "metadata": {},
   "source": [
    "### [Q5.] State advantages and disadvantages of multithreading."
   ]
  },
  {
   "cell_type": "markdown",
   "id": "cec11801-e7af-42ba-b18b-928baa7c5175",
   "metadata": {},
   "source": [
    "#### [Ans]\n",
    "ADVANTAGES :\n",
    "The main advantage of multithreading is that it allows a program to perfrom multiple taska simultaneously, which can significantly improve performance and responsiveness.\n",
    "\n",
    "DISADVANTAGES :\n",
    "The main disadvantages of multithreading is that it can introduce new types of bugs and errors that are difficult to debug and reproduce."
   ]
  },
  {
   "cell_type": "markdown",
   "id": "b72e0c4c-e7e3-4c47-b8cc-3d3644eb5531",
   "metadata": {},
   "source": [
    "### [Q6.] Explain deadlocks and race conditions."
   ]
  },
  {
   "cell_type": "markdown",
   "id": "504e4fcb-35f7-4ea1-a040-cb350705f713",
   "metadata": {},
   "source": [
    "#### [Ans]\n",
    "DEADLOCKS :- A deadlock is a situation that can occur in a mulyithreaded program when two or more threads are blocked, waiting for each other to release a resource that they need in order to proceed.\n",
    "\n",
    "RACE CONDITIONS :- A race condition is a situation that can occur in a multithreaded program when two or more threads access shared resource in an unpredictable order, leading to unexpected results."
   ]
  }
 ],
 "metadata": {
  "kernelspec": {
   "display_name": "Python 3 (ipykernel)",
   "language": "python",
   "name": "python3"
  },
  "language_info": {
   "codemirror_mode": {
    "name": "ipython",
    "version": 3
   },
   "file_extension": ".py",
   "mimetype": "text/x-python",
   "name": "python",
   "nbconvert_exporter": "python",
   "pygments_lexer": "ipython3",
   "version": "3.10.6"
  }
 },
 "nbformat": 4,
 "nbformat_minor": 5
}
