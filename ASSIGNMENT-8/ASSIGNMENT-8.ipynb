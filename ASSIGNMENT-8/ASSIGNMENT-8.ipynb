{
 "cells": [
  {
   "cell_type": "markdown",
   "id": "742f6ec8-d7f0-4b55-9948-4c59b96fa9b3",
   "metadata": {},
   "source": [
    "### [Q1.] What is Exception in python? Write the difference between Exception and Syntax errors."
   ]
  },
  {
   "cell_type": "markdown",
   "id": "22e2ed05-cd94-49cb-84c8-7ba405651e3a",
   "metadata": {},
   "source": [
    "#### [Ans]\n",
    "In python, an exception is an error that occurs during the execution of a program. When an exception occurs, the programs stops running and displays an error message that describes the problem.\n",
    " \n",
    " \n",
    " \n",
    " \n",
    "##### DIFFERENCE BETWEEN EXCEPTION AND SYNTAX ERRORS:\n",
    "SYNTAX ERRORS :- It occurs when the Python interpreter encounters code tht is not valid Python syntax. These errors are detected before the program is executed.\n",
    "\n",
    "Exception errors :- It occurs during program execution when the interpreter encounters an error that it cannot handle."
   ]
  },
  {
   "cell_type": "markdown",
   "id": "caa425b3-22fc-42fc-8b63-f4300d70b6cf",
   "metadata": {},
   "source": [
    "### [Q2.] What happens when an exception is not handled? Explain with an example."
   ]
  },
  {
   "cell_type": "markdown",
   "id": "8e186ad0-9449-4619-9cd8-61c89fff502e",
   "metadata": {},
   "source": [
    "#### [Ans]\n",
    "When an exception is not handled, the program will stop executing and display an error message that describes the problem."
   ]
  },
  {
   "cell_type": "code",
   "execution_count": null,
   "id": "8c6798ce-92fb-4eea-aeff-a6d0716b04ae",
   "metadata": {},
   "outputs": [],
   "source": [
    "# EXAMPLE :\n",
    "try :\n",
    "    10/0\n",
    "except ValueError as e:\n",
    "    print(e)\n",
    "    \n",
    "# IN THIS CODE A ZERODIVISION ERROR WILL OCCUR WHEN THE PROGRAM TRIES TO DIVIDE 10 BY 0. HOWEVER THERE IS NO EXCEPT BLOCK THAT HANDLES ZERODIVISIONERROR, ONLY VALUEERROR. AS A RESULT, THE PROGRAM WILL STOP EXECUTING AND DISPLAY AN ERROR MESSAGE THAT DESCRIBES THE PROBLEM."
   ]
  },
  {
   "cell_type": "markdown",
   "id": "1748cc73-c546-4067-b280-ec5a3e10f56a",
   "metadata": {},
   "source": [
    "### [Q3.] Which python statements are used to catch and handle exceptions? Explain with an example."
   ]
  },
  {
   "cell_type": "markdown",
   "id": "94bd724e-a4a5-4c66-9d27-e93562a36a24",
   "metadata": {},
   "source": [
    "#### [Ans] \n",
    "The try and except statements are used to catch and handle exception in Python."
   ]
  },
  {
   "cell_type": "code",
   "execution_count": 10,
   "id": "7a7fec6d-0f42-4e08-82f1-7fe2d7fd6945",
   "metadata": {},
   "outputs": [
    {
     "name": "stdin",
     "output_type": "stream",
     "text": [
      "ENTER THE NUMBER : m\n"
     ]
    },
    {
     "name": "stdout",
     "output_type": "stream",
     "text": [
      "INVALID INPUT , PLEASE ENTER A NUMBER\n",
      "THANK YOU FOR USING THIS PROGRAM\n"
     ]
    }
   ],
   "source": [
    "# EXAMPLE :\n",
    "try :\n",
    "    x = int(input(\"ENTER THE NUMBER :\"))\n",
    "    y = 10/x\n",
    "except ValueError:\n",
    "    print(\"INVALID INPUT , PLEASE ENTER A NUMBER\")\n",
    "except ZeroDivisionError:\n",
    "    print(\"CANNOT DIVIDE BY ZERO\")\n",
    "else :\n",
    "    print(\"THE RESULT IS :\" ,y)\n",
    "finally:\n",
    "    print(\"THANK YOU FOR USING THIS PROGRAM\")\n",
    "    "
   ]
  },
  {
   "cell_type": "markdown",
   "id": "a4abae0f-8632-409b-86fb-07050d86a759",
   "metadata": {},
   "source": [
    "### [Q4.] Explain with an example:\n",
    "[a.] try and else\n",
    "\n",
    "[b.] finally\n",
    "\n",
    "[c.] raise\n"
   ]
  },
  {
   "cell_type": "markdown",
   "id": "79c4f45f-27d8-4b30-8eaa-d42d39d3ba51",
   "metadata": {},
   "source": [
    "#### [Ans]\n",
    "TRY AND ELSE :- In python , try and else statements are used together to handle exception that might occur in a block of code , and execute code if no exceptions occur.\n",
    "\n",
    "FINALLY : In python , finally block is used to execute code that must e executed regardless of whether an exception is raised or not.\n",
    "\n",
    "RAISE :In python , raise statement is used to raise an exception."
   ]
  },
  {
   "cell_type": "code",
   "execution_count": 11,
   "id": "46bb20e5-55e3-44f0-aa33-8c98b47be529",
   "metadata": {},
   "outputs": [
    {
     "name": "stdin",
     "output_type": "stream",
     "text": [
      "ENTER THE NUMBER : 5\n"
     ]
    },
    {
     "name": "stdout",
     "output_type": "stream",
     "text": [
      "THE RESULT IS : 2.0\n",
      "THANK YOU FOR USING THIS PROGRAM\n"
     ]
    }
   ],
   "source": [
    "# EXAMPLE OF TRY AND ELSE AND FINALLY :\n",
    "try :\n",
    "    x = int(input(\"ENTER THE NUMBER :\"))\n",
    "    y = 10/x\n",
    "except ValueError:\n",
    "    print(\"INVALID INPUT , PLEASE ENTER A NUMBER\")\n",
    "except ZeroDivisionError:\n",
    "    print(\"CANNOT DIVIDE BY ZERO\")\n",
    "else :\n",
    "    print(\"THE RESULT IS :\" ,y)\n",
    "finally:\n",
    "    print(\"THANK YOU FOR USING THIS PROGRAM\")\n",
    "    "
   ]
  },
  {
   "cell_type": "code",
   "execution_count": 12,
   "id": "7eeec658-38e5-4e60-a545-b6bbcb0517df",
   "metadata": {},
   "outputs": [
    {
     "name": "stdout",
     "output_type": "stream",
     "text": [
      "CANNOT DIVIDE BY ZERO\n"
     ]
    }
   ],
   "source": [
    "# EXAMPLE OF RAISE :\n",
    "def divide(x,y):\n",
    "    if y==0:\n",
    "        raise ZeroDivisionError(\"CANNOT DIVIDE BY ZERO\")\n",
    "    else:\n",
    "        return x/y\n",
    "    \n",
    "try :\n",
    "    result = divide(10,0)\n",
    "except ZeroDivisionError as e:\n",
    "    print(e)\n",
    "else :\n",
    "    print(\"THE RESULT IS :\" ,result)"
   ]
  },
  {
   "cell_type": "markdown",
   "id": "8d7eab67-8144-46f2-a811-f212e8271962",
   "metadata": {},
   "source": [
    "### [Q5.] What are Custom Exception in python? Why do we need Custom Exception? Explain with an example."
   ]
  },
  {
   "cell_type": "markdown",
   "id": "60dc0ea1-8ac8-4d2a-913f-f5bfba199c1b",
   "metadata": {},
   "source": [
    "#### [Ans] \n",
    "In python , custom exception are user defined exception that can be raised in the same way as built-in exceptions.\n",
    "\n",
    "Custom exceptions are useful when you want to create your own error messages that are more specific than the built-in exceptions, you can make your code more readable and easier to debug."
   ]
  },
  {
   "cell_type": "code",
   "execution_count": 17,
   "id": "55ab2f09-b2e1-4935-9bc6-c9cdb5ce737c",
   "metadata": {},
   "outputs": [
    {
     "name": "stdout",
     "output_type": "stream",
     "text": [
      "YOU MUST BE AT LEAST 18 YEARS OLD TO REGISTER.\n"
     ]
    }
   ],
   "source": [
    "# EXAMPLE :\n",
    "class InvalidAgeError(Exception):\n",
    "    pass\n",
    "def register(name,age):\n",
    "    if age < 18:\n",
    "        raise InvalidAgeError(\"YOU MUST BE AT LEAST 18 YEARS OLD TO REGISTER.\")\n",
    "    else:\n",
    "        print(\"WELCOME,{}!\".format(name))\n",
    "        \n",
    "try:\n",
    "    register(\"RAHUL\",17)\n",
    "except InvalidAgeError as e:\n",
    "    print(e)"
   ]
  },
  {
   "cell_type": "markdown",
   "id": "38faa4ce-50d6-4e1b-87de-2e732399d3e8",
   "metadata": {},
   "source": [
    "### [Q6.] Create a custom Exception class. Use this class to handle an exception."
   ]
  },
  {
   "cell_type": "markdown",
   "id": "bd684426-d7e3-4c59-acc7-4237ea3f0a82",
   "metadata": {},
   "source": [
    "#### [Ans]"
   ]
  },
  {
   "cell_type": "code",
   "execution_count": null,
   "id": "54b7787e-fcd7-4cb4-baa5-649eed80cbd6",
   "metadata": {},
   "outputs": [],
   "source": [
    "class CustomException(Exception):\n",
    "    def __init__(self, message):\n",
    "        self.message = message\n",
    "        super().__init__(self.message)\n",
    "        \n",
    "def divide_number(a , b):\n",
    "    if b==0:\n",
    "        raise CustomException(\"CANNOT DIVIDE BY ZERO\")\n",
    "        return a/b\n",
    "    \n",
    "try:\n",
    "    result = divide_number(20,0)\n",
    "    print(\"RESULT :\",result)\n",
    "except CustomExceptiom"
   ]
  }
 ],
 "metadata": {
  "kernelspec": {
   "display_name": "Python 3 (ipykernel)",
   "language": "python",
   "name": "python3"
  },
  "language_info": {
   "codemirror_mode": {
    "name": "ipython",
    "version": 3
   },
   "file_extension": ".py",
   "mimetype": "text/x-python",
   "name": "python",
   "nbconvert_exporter": "python",
   "pygments_lexer": "ipython3",
   "version": "3.10.6"
  }
 },
 "nbformat": 4,
 "nbformat_minor": 5
}
