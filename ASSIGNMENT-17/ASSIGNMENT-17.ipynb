{
 "cells": [
  {
   "cell_type": "markdown",
   "id": "9e14626f-4e6e-4383-852d-b9b8c058bb21",
   "metadata": {},
   "source": [
    "### [Q1.] What is Web Scraping? Why is it Used? Give three areas where Web Scraping is used to get data."
   ]
  },
  {
   "cell_type": "markdown",
   "id": "deac6eb1-6ffe-4356-8301-b3112e8258ba",
   "metadata": {},
   "source": [
    "##### [Ans]\n",
    "Web Scraping is the process of extracting data from website.\n",
    "\n",
    "Web Scraping allows businesses and individuals to collect large amount of data quickly and efficiently, which can be used to gain insights, and make informed decisions, and automate various processes.\n",
    "\n",
    "The three areas are :-\n",
    "\n",
    "[1.] E-commerce.\n",
    "\n",
    "[2.] Research.\n",
    "\n",
    "[3.] Marketing.\n"
   ]
  },
  {
   "cell_type": "markdown",
   "id": "05da3b7d-0fd8-4aec-ba06-0da779de5a8e",
   "metadata": {},
   "source": [
    "### [Q2.] What are the different methods used for Web Scraping?"
   ]
  },
  {
   "cell_type": "markdown",
   "id": "ba34503a-76e8-4f1b-8f10-46f73b498dc4",
   "metadata": {},
   "source": [
    "##### [Ans]\n",
    "There are several methods used for web scraping, including :\n",
    "\n",
    "[1.] Parsing HTML :-  This method involves using a programming language like python to extract data from HTML code.\n",
    "\n",
    "[2.] Using APIs :- Some websites offer APIs that allow developers to access data in a structured format, which can be easily extracted and analyzed.\n",
    "\n",
    "[3.] Using web scraping tools :- There are many web scraping tools available that allows users to extract data from websites without writing any code.\n",
    "\n",
    "[4.] Using browser extensions :- Some browsers extensions like Web Scraper abd Data Miner allow users to easily extract data from websites without writing any code.\n",
    "\n",
    "[5.] Automated web browsing :- This method involves using a tool like Selenium to automate web browsing and extract data from websites."
   ]
  },
  {
   "cell_type": "markdown",
   "id": "fb2776c1-8911-4a15-ac46-5b8b077e51a0",
   "metadata": {},
   "source": [
    "### [Q3.] What is Beautiful Soup? Why is it used?"
   ]
  },
  {
   "cell_type": "markdown",
   "id": "40f79a09-bdbe-4384-8ce8-7d284d1e2cb3",
   "metadata": {},
   "source": [
    "##### [Ans]\n",
    "BeautifulSoup is a Python library used for web scraping.\n",
    "\n",
    "It is used to extract data from HTML and XML files and creates a parse tree that can be used to extract data in a hierachical and more readable manner."
   ]
  },
  {
   "cell_type": "markdown",
   "id": "992c16dc-01f0-4231-b6fc-49d930be2d33",
   "metadata": {},
   "source": [
    "### [Q4.] Why is flask used in this Web Scraping project?"
   ]
  },
  {
   "cell_type": "markdown",
   "id": "9941468d-01ab-48d1-bd0e-07202a6da623",
   "metadata": {},
   "source": [
    "##### [Ans]\n",
    "Flask is used in Web Scraping project because it provides a simple way to create web applications ans APIs that can be used to extract and serve data scraped from websites. It also provides a built-in web server, which makes it easy to test and de"
   ]
  },
  {
   "cell_type": "markdown",
   "id": "abde55e3-3629-4ed2-8612-f75a999d69a9",
   "metadata": {},
   "source": [
    "### [Q5.] Write the names of AWS services used in this project. Also, explain the use of each service."
   ]
  },
  {
   "cell_type": "markdown",
   "id": "bcb7a058-076b-4548-9d21-f26d75806fe6",
   "metadata": {},
   "source": [
    "##### [Ans]\n",
    " AWS CodePipeline is a fully managed continuous delivery service that helps automate the release process for your \n",
    "     web applications. It provides a set of tools and services that allow developers to build, test, and deploy their \n",
    "     code automatically, from source code changes to production deployment. CodePipeline integrates with a wide range \n",
    "     of AWS services, including Elastic Beanstalk, to provide a seamless and automated software release process.\n",
    "\n",
    "     AWS Elastic Beanstalk is a fully managed service that makes it easy to deploy and run web applications and services \n",
    "     on AWS. It provides an easy-to-use interface that allows developers to deploy web applications quickly and easily, \n",
    "     without worrying about the underlying infrastructure. Elastic Beanstalk supports multiple languages, including Python, \n",
    "     Ruby, Java, and Node.js, and provides a range of pre-configured environments that developers can use to deploy their \n",
    "     applications.\n",
    "\n",
    "     When used together, AWS CodePipeline and Elastic Beanstalk can simplify the software release process by automating \n",
    "     the deployment of web applications to the cloud. Developers can use CodePipeline to define a release pipeline that \n",
    "     includes multiple stages, such as build, test, and deploy, and configure Elastic Beanstalk to deploy the application \n",
    "     to the appropriate environment based on the pipeline status. This allows developers to release new features and \n",
    "     updates more quickly and with less risk, as the entire process is automated and standardized."
   ]
  }
 ],
 "metadata": {
  "kernelspec": {
   "display_name": "Python 3 (ipykernel)",
   "language": "python",
   "name": "python3"
  },
  "language_info": {
   "codemirror_mode": {
    "name": "ipython",
    "version": 3
   },
   "file_extension": ".py",
   "mimetype": "text/x-python",
   "name": "python",
   "nbconvert_exporter": "python",
   "pygments_lexer": "ipython3",
   "version": "3.10.6"
  }
 },
 "nbformat": 4,
 "nbformat_minor": 5
}
