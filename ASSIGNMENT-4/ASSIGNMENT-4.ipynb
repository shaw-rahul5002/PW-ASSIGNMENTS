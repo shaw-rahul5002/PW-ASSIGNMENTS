{
 "cells": [
  {
   "cell_type": "markdown",
   "id": "7af4ce09-0f09-4c9d-b0b7-8bc839c99069",
   "metadata": {},
   "source": [
    "### [Q1.] Create a python program to sort the given list of tuples based on integer value using a lambda function.\n",
    "#### [('Sachin Tendulkar', 34357), ('Ricky Ponting', 27483), ('Jack Kallis', 25534), ('Virat Kohli', 24936)]"
   ]
  },
  {
   "cell_type": "markdown",
   "id": "7d095131-a52c-429a-824d-6306dfac6830",
   "metadata": {},
   "source": [
    "#### [Ans]"
   ]
  },
  {
   "cell_type": "code",
   "execution_count": 3,
   "id": "093f18da-4e78-4643-b32a-48bd38d8cfb1",
   "metadata": {},
   "outputs": [
    {
     "name": "stdout",
     "output_type": "stream",
     "text": [
      "[('Virat Kholi', 24936), ('Jack Kallis', 25534), ('Ricky Pointing', 27483), ('Sachin Tendulkar', 34357)]\n"
     ]
    }
   ],
   "source": [
    "l = [('Sachin Tendulkar', 34357),('Ricky Pointing', 27483),('Jack Kallis', 25534),('Virat Kholi' , 24936)]\n",
    "sorted_data = sorted(l, key=lambda x : x[1])\n",
    "print(sorted_data)"
   ]
  },
  {
   "cell_type": "markdown",
   "id": "91915837-866c-4e3d-803b-b3b28fc275d5",
   "metadata": {},
   "source": [
    "### [Q2.] Write a Python Program to find the squares of all the numbers in the given list of integers using lambda and map functions.\n",
    "#### [1, 2, 3, 4, 5, 6, 7, 8, 9, 10]"
   ]
  },
  {
   "cell_type": "markdown",
   "id": "68479196-452c-40ae-931d-13b3007f6ec5",
   "metadata": {},
   "source": [
    "#### [Ans]"
   ]
  },
  {
   "cell_type": "code",
   "execution_count": 4,
   "id": "12461128-d3e1-430c-b52d-7cda03f06368",
   "metadata": {},
   "outputs": [
    {
     "data": {
      "text/plain": [
       "[1, 4, 9, 16, 25, 36, 49, 64, 81, 100]"
      ]
     },
     "execution_count": 4,
     "metadata": {},
     "output_type": "execute_result"
    }
   ],
   "source": [
    "m = [1,2,3,4,5,6,7,8,9,10]\n",
    "list(map(lambda x : x**2 , m))"
   ]
  },
  {
   "cell_type": "markdown",
   "id": "75155830-7136-4878-8fa2-070882a145ce",
   "metadata": {},
   "source": [
    "### [Q3.] Write a python program to convert the given list of integers into a tuple of strings. Use map and lambda functions\n",
    "#### Given String: [1, 2, 3, 4, 5, 6, 7, 8, 9, 10]\n",
    "#### Expected output: ('1', '2', '3', '4', '5', '6', '7', '8', '9', '10')"
   ]
  },
  {
   "cell_type": "markdown",
   "id": "20edd4dc-865c-4ac6-9282-de83480d9850",
   "metadata": {},
   "source": [
    "#### [Ans]"
   ]
  },
  {
   "cell_type": "code",
   "execution_count": 5,
   "id": "c2d18ad3-2609-4172-9718-468c8d996bde",
   "metadata": {},
   "outputs": [
    {
     "name": "stdout",
     "output_type": "stream",
     "text": [
      "('1', '2', '3', '4', '5', '6', '7', '8', '9', '10')\n"
     ]
    }
   ],
   "source": [
    "n = [1,2,3,4,5,6,7,8,9,10]\n",
    "converted_tuples = tuple(map(lambda x: str(x) , n))\n",
    "print(converted_tuples)"
   ]
  },
  {
   "cell_type": "markdown",
   "id": "901e0b0a-69b1-48bf-9602-8f703316b69a",
   "metadata": {},
   "source": [
    "### [Q4.] Write a python program using reduce function to compute the product of a list containing numbers from 1 to 25."
   ]
  },
  {
   "cell_type": "markdown",
   "id": "4316178e-0016-4a5b-b9de-3c32ca814814",
   "metadata": {},
   "source": [
    "#### [Ans]"
   ]
  },
  {
   "cell_type": "code",
   "execution_count": 14,
   "id": "8b6816ef-2fdf-43ea-a029-106e8864da19",
   "metadata": {},
   "outputs": [
    {
     "name": "stdout",
     "output_type": "stream",
     "text": [
      "15511210043330985984000000\n"
     ]
    }
   ],
   "source": [
    "h = list(range(1,26))\n",
    "product = reduce(lambda x,y : x*y , h)\n",
    "print(product)"
   ]
  },
  {
   "cell_type": "markdown",
   "id": "b11d41fd-cb9c-430d-8b77-2256f523ef5c",
   "metadata": {},
   "source": [
    "### [Q5.] Write a python program to filter the numbers in a given list that are divisible by 2 and 3 using the filter function."
   ]
  },
  {
   "cell_type": "markdown",
   "id": "99a5f19c-f869-480c-a934-2ccc265b3b2e",
   "metadata": {},
   "source": [
    "#### [Ans]"
   ]
  },
  {
   "cell_type": "code",
   "execution_count": 15,
   "id": "7e39e54d-2e69-4995-9494-204218b84022",
   "metadata": {},
   "outputs": [
    {
     "name": "stdout",
     "output_type": "stream",
     "text": [
      "[6, 60, 90, 120]\n"
     ]
    }
   ],
   "source": [
    "o = [2,3,6,9,27,60,90,120,55,46]\n",
    "filtered = list(filter(lambda x : x%2==0 and x%3==0 , o))\n",
    "print(filtered)"
   ]
  },
  {
   "cell_type": "markdown",
   "id": "8f165910-3b5a-4ea5-b41a-da8e7da6e263",
   "metadata": {},
   "source": [
    "### [Q6.] Write a python program to find palindromes in the given list of strings using lambda and filter function.\n",
    "#### ['python', 'php', 'aba', 'radar', 'level']"
   ]
  },
  {
   "cell_type": "markdown",
   "id": "8e90eae9-3a8e-4a34-82bf-275206f283f1",
   "metadata": {},
   "source": [
    "#### [Ans]"
   ]
  },
  {
   "cell_type": "code",
   "execution_count": 17,
   "id": "9e9ce16f-ae11-49de-95b8-6f67d3646e26",
   "metadata": {},
   "outputs": [
    {
     "name": "stdout",
     "output_type": "stream",
     "text": [
      "PALINDROMES : ['php', 'aba', 'radar', 'level']\n"
     ]
    }
   ],
   "source": [
    "strings = ['python','php','aba','radar','level']\n",
    "palindromes = list(filter(lambda x : x == x[::-1] , strings))\n",
    "print(\"PALINDROMES :\",palindromes)"
   ]
  }
 ],
 "metadata": {
  "kernelspec": {
   "display_name": "Python 3 (ipykernel)",
   "language": "python",
   "name": "python3"
  },
  "language_info": {
   "codemirror_mode": {
    "name": "ipython",
    "version": 3
   },
   "file_extension": ".py",
   "mimetype": "text/x-python",
   "name": "python",
   "nbconvert_exporter": "python",
   "pygments_lexer": "ipython3",
   "version": "3.10.6"
  }
 },
 "nbformat": 4,
 "nbformat_minor": 5
}
