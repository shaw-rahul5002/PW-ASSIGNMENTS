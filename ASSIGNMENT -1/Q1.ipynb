{
 "cells": [
  {
   "cell_type": "code",
   "execution_count": 1,
   "id": "66d83bdb-8d7e-4e70-9d9b-0670d995a30f",
   "metadata": {},
   "outputs": [],
   "source": [
    "a = 'rahul'"
   ]
  },
  {
   "cell_type": "code",
   "execution_count": 2,
   "id": "e3c6f64c-1929-470c-94df-1f1d6ab565f8",
   "metadata": {},
   "outputs": [
    {
     "data": {
      "text/plain": [
       "str"
      ]
     },
     "execution_count": 2,
     "metadata": {},
     "output_type": "execute_result"
    }
   ],
   "source": [
    "type (a)"
   ]
  },
  {
   "cell_type": "code",
   "execution_count": 3,
   "id": "22c6efe5-1f7f-4705-90af-bf10c4061501",
   "metadata": {},
   "outputs": [],
   "source": [
    "l = [1,2,3,'pwskills',True,23.252,]"
   ]
  },
  {
   "cell_type": "code",
   "execution_count": 4,
   "id": "c44593fe-20d9-46ef-8611-9d58cc3a732e",
   "metadata": {},
   "outputs": [
    {
     "data": {
      "text/plain": [
       "list"
      ]
     },
     "execution_count": 4,
     "metadata": {},
     "output_type": "execute_result"
    }
   ],
   "source": [
    "type (l)"
   ]
  },
  {
   "cell_type": "code",
   "execution_count": 5,
   "id": "74d60bc3-d361-458f-9e0c-a1ba9348631d",
   "metadata": {},
   "outputs": [],
   "source": [
    "b = 23.25"
   ]
  },
  {
   "cell_type": "code",
   "execution_count": 6,
   "id": "42c6891e-42e5-4afb-8a23-40dc95187e2f",
   "metadata": {},
   "outputs": [
    {
     "data": {
      "text/plain": [
       "float"
      ]
     },
     "execution_count": 6,
     "metadata": {},
     "output_type": "execute_result"
    }
   ],
   "source": [
    "type (b)"
   ]
  },
  {
   "cell_type": "code",
   "execution_count": 7,
   "id": "ab2638ea-6c87-4f24-aee5-1ce7da4336d9",
   "metadata": {},
   "outputs": [],
   "source": [
    "c = ()"
   ]
  },
  {
   "cell_type": "code",
   "execution_count": 8,
   "id": "1f222f56-40c0-4c2a-829e-1e334b24a6e7",
   "metadata": {},
   "outputs": [
    {
     "data": {
      "text/plain": [
       "tuple"
      ]
     },
     "execution_count": 8,
     "metadata": {},
     "output_type": "execute_result"
    }
   ],
   "source": [
    "type (c)"
   ]
  },
  {
   "cell_type": "code",
   "execution_count": null,
   "id": "b2824526-a12e-43d2-893d-ab9d609ac661",
   "metadata": {},
   "outputs": [],
   "source": []
  }
 ],
 "metadata": {
  "kernelspec": {
   "display_name": "Python 3 (ipykernel)",
   "language": "python",
   "name": "python3"
  },
  "language_info": {
   "codemirror_mode": {
    "name": "ipython",
    "version": 3
   },
   "file_extension": ".py",
   "mimetype": "text/x-python",
   "name": "python",
   "nbconvert_exporter": "python",
   "pygments_lexer": "ipython3",
   "version": "3.10.6"
  }
 },
 "nbformat": 4,
 "nbformat_minor": 5
}
