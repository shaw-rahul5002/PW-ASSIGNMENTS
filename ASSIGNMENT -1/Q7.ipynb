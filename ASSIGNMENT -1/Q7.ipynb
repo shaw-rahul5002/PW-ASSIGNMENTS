{
 "cells": [
  {
   "cell_type": "code",
   "execution_count": 1,
   "id": "feedc6e3-f37b-4ca5-a558-916bb79214ba",
   "metadata": {},
   "outputs": [],
   "source": [
    "l = [1,2,3,4,'RAHUL',True] # it is mutable data type"
   ]
  },
  {
   "cell_type": "code",
   "execution_count": 3,
   "id": "866b8736-2b8c-4646-8dde-719ba1893192",
   "metadata": {},
   "outputs": [],
   "source": [
    "l[3] = 6 # value has chamged"
   ]
  },
  {
   "cell_type": "code",
   "execution_count": 6,
   "id": "5189e8d7-fe65-438d-9f9c-cb18e61413dd",
   "metadata": {},
   "outputs": [
    {
     "data": {
      "text/plain": [
       "[1, 2, 3, 6, 'RAHUL', True]"
      ]
     },
     "execution_count": 6,
     "metadata": {},
     "output_type": "execute_result"
    }
   ],
   "source": [
    "l"
   ]
  },
  {
   "cell_type": "code",
   "execution_count": 7,
   "id": "2a1bae7c-2752-4f93-8357-d1e8cb6e82b4",
   "metadata": {},
   "outputs": [],
   "source": [
    "s = 'rahul' # it is immutable data type"
   ]
  },
  {
   "cell_type": "code",
   "execution_count": 11,
   "id": "820a4acd-742a-4794-bce2-ca0ba337de4c",
   "metadata": {},
   "outputs": [
    {
     "data": {
      "text/plain": [
       "'a'"
      ]
     },
     "execution_count": 11,
     "metadata": {},
     "output_type": "execute_result"
    }
   ],
   "source": [
    "s[1]= u  # text has not chamged"
   ]
  },
  {
   "cell_type": "code",
   "execution_count": 9,
   "id": "2c1bf61d-7466-4683-852a-9bab84fca560",
   "metadata": {},
   "outputs": [
    {
     "data": {
      "text/plain": [
       "'rahul'"
      ]
     },
     "execution_count": 9,
     "metadata": {},
     "output_type": "execute_result"
    }
   ],
   "source": [
    "s"
   ]
  },
  {
   "cell_type": "code",
   "execution_count": null,
   "id": "be3a62b5-034c-4b78-9132-1d28315ea2f4",
   "metadata": {},
   "outputs": [],
   "source": []
  }
 ],
 "metadata": {
  "kernelspec": {
   "display_name": "Python 3 (ipykernel)",
   "language": "python",
   "name": "python3"
  },
  "language_info": {
   "codemirror_mode": {
    "name": "ipython",
    "version": 3
   },
   "file_extension": ".py",
   "mimetype": "text/x-python",
   "name": "python",
   "nbconvert_exporter": "python",
   "pygments_lexer": "ipython3",
   "version": "3.10.6"
  }
 },
 "nbformat": 4,
 "nbformat_minor": 5
}
