{
 "cells": [
  {
   "cell_type": "markdown",
   "id": "a6ea1a6f-cfd3-461a-ab5f-561521a3aebe",
   "metadata": {},
   "source": [
    "### [Q1.] Create one variable containing following type of data:\n",
    "\n",
    "(i) string\n",
    "\n",
    "(ii) list\n",
    "\n",
    "(iii) float\n",
    "\n",
    "(iv) tuple\n"
   ]
  },
  {
   "cell_type": "code",
   "execution_count": 1,
   "id": "6ed555d6-a6bd-4c0f-92d1-7c4abd601dd1",
   "metadata": {},
   "outputs": [],
   "source": [
    "a = 'rahul'"
   ]
  },
  {
   "cell_type": "code",
   "execution_count": 2,
   "id": "ba49f9df-3cae-42c1-98fa-531753e843ea",
   "metadata": {},
   "outputs": [
    {
     "data": {
      "text/plain": [
       "str"
      ]
     },
     "execution_count": 2,
     "metadata": {},
     "output_type": "execute_result"
    }
   ],
   "source": [
    "type(a)"
   ]
  },
  {
   "cell_type": "code",
   "execution_count": 4,
   "id": "b80ada67-9510-4c38-98e8-28009b78e2f2",
   "metadata": {},
   "outputs": [],
   "source": [
    "l = [1,2,3,'rahul','pwskills',2.32,True]"
   ]
  },
  {
   "cell_type": "code",
   "execution_count": 5,
   "id": "4f7e171a-9a01-45f0-8136-133893ce7230",
   "metadata": {},
   "outputs": [
    {
     "data": {
      "text/plain": [
       "list"
      ]
     },
     "execution_count": 5,
     "metadata": {},
     "output_type": "execute_result"
    }
   ],
   "source": [
    "type (l)"
   ]
  },
  {
   "cell_type": "code",
   "execution_count": 6,
   "id": "1e4d568d-51af-4c2c-9520-72212770d9d2",
   "metadata": {},
   "outputs": [],
   "source": [
    "b = 23.3256987"
   ]
  },
  {
   "cell_type": "code",
   "execution_count": 7,
   "id": "8db9f2ee-ca55-404e-ac0a-3006f9780813",
   "metadata": {},
   "outputs": [
    {
     "data": {
      "text/plain": [
       "float"
      ]
     },
     "execution_count": 7,
     "metadata": {},
     "output_type": "execute_result"
    }
   ],
   "source": [
    "type (b)"
   ]
  },
  {
   "cell_type": "code",
   "execution_count": 8,
   "id": "819a5982-1b15-4588-ac88-e95a30346cb5",
   "metadata": {},
   "outputs": [],
   "source": [
    "c = (1,2,3,'peskills')"
   ]
  },
  {
   "cell_type": "code",
   "execution_count": 9,
   "id": "63743e4d-5a04-47a1-9ee1-31cce5b9db1f",
   "metadata": {},
   "outputs": [
    {
     "data": {
      "text/plain": [
       "tuple"
      ]
     },
     "execution_count": 9,
     "metadata": {},
     "output_type": "execute_result"
    }
   ],
   "source": [
    "type(c)"
   ]
  },
  {
   "cell_type": "markdown",
   "id": "f3a3bf9d-1430-4633-80ec-a347047c69fd",
   "metadata": {},
   "source": [
    "### [Q2.] Given are some following variables containing data:\n",
    "\n",
    "(i) var1 = ‘ ‘\n",
    "\n",
    "(ii) var2 = ‘[ DS , ML , Python]’\n",
    "\n",
    "(iii) var3 = [ ‘DS’ , ’ML’ , ‘Python’ ]\n",
    "\n",
    "(iv) var4 = 1.\n",
    "\n",
    "### What will be the data type of the above given variable."
   ]
  },
  {
   "cell_type": "code",
   "execution_count": 10,
   "id": "49d95f84-0d3f-4cd5-8b2b-d22814e895fb",
   "metadata": {},
   "outputs": [],
   "source": [
    "var1 = ''"
   ]
  },
  {
   "cell_type": "code",
   "execution_count": 11,
   "id": "aaef326c-c758-4ce2-8951-770ec73c6359",
   "metadata": {},
   "outputs": [
    {
     "data": {
      "text/plain": [
       "str"
      ]
     },
     "execution_count": 11,
     "metadata": {},
     "output_type": "execute_result"
    }
   ],
   "source": [
    "type(var1)"
   ]
  },
  {
   "cell_type": "code",
   "execution_count": 12,
   "id": "4532205b-de0e-46a1-87fb-cbe6e984ad65",
   "metadata": {},
   "outputs": [],
   "source": [
    "var2 = '[DS,ML,Pyhton]'"
   ]
  },
  {
   "cell_type": "code",
   "execution_count": 13,
   "id": "e07180b9-9f03-49cf-9cd1-b99f2c708c4d",
   "metadata": {},
   "outputs": [
    {
     "data": {
      "text/plain": [
       "str"
      ]
     },
     "execution_count": 13,
     "metadata": {},
     "output_type": "execute_result"
    }
   ],
   "source": [
    "type(var2)"
   ]
  },
  {
   "cell_type": "code",
   "execution_count": 14,
   "id": "58f9eb50-00f6-4997-8674-3492f13dcf7d",
   "metadata": {},
   "outputs": [],
   "source": [
    "var3 = [ 'DS' , 'ML' , 'Pyhton']"
   ]
  },
  {
   "cell_type": "code",
   "execution_count": 15,
   "id": "5af61d66-5e94-4937-9b95-e41d8b6120d1",
   "metadata": {},
   "outputs": [
    {
     "data": {
      "text/plain": [
       "list"
      ]
     },
     "execution_count": 15,
     "metadata": {},
     "output_type": "execute_result"
    }
   ],
   "source": [
    "type(var3)"
   ]
  },
  {
   "cell_type": "code",
   "execution_count": 16,
   "id": "c0020f1f-23ca-48bf-bf21-27bb71fd95aa",
   "metadata": {},
   "outputs": [],
   "source": [
    "var4 = 1."
   ]
  },
  {
   "cell_type": "code",
   "execution_count": 17,
   "id": "70cca57a-d5a2-4d9c-8973-f152caec7e21",
   "metadata": {},
   "outputs": [
    {
     "data": {
      "text/plain": [
       "float"
      ]
     },
     "execution_count": 17,
     "metadata": {},
     "output_type": "execute_result"
    }
   ],
   "source": [
    "type(var4)"
   ]
  },
  {
   "cell_type": "markdown",
   "id": "846e5017-0318-4c04-b6cc-49f9d018f166",
   "metadata": {},
   "source": [
    "### [Q3.] Explain the use of the following operators using an example:\n",
    "\n",
    "(i) /\n",
    "\n",
    "(ii) %\n",
    "\n",
    "(iii) //\n",
    "\n",
    "(iv) **"
   ]
  },
  {
   "cell_type": "code",
   "execution_count": 18,
   "id": "9e8839d1-d2ba-4295-9a68-fb9c7d29521c",
   "metadata": {},
   "outputs": [
    {
     "data": {
      "text/plain": [
       "3.3333333333333335"
      ]
     },
     "execution_count": 18,
     "metadata": {},
     "output_type": "execute_result"
    }
   ],
   "source": [
    "10 / 3"
   ]
  },
  {
   "cell_type": "code",
   "execution_count": 19,
   "id": "db63e792-7b4b-437f-9248-856d5a5686cd",
   "metadata": {},
   "outputs": [
    {
     "data": {
      "text/plain": [
       "1"
      ]
     },
     "execution_count": 19,
     "metadata": {},
     "output_type": "execute_result"
    }
   ],
   "source": [
    "5 % 2"
   ]
  },
  {
   "cell_type": "code",
   "execution_count": 20,
   "id": "9e411818-fa6c-460b-ab8a-df8da36ea121",
   "metadata": {},
   "outputs": [
    {
     "data": {
      "text/plain": [
       "4"
      ]
     },
     "execution_count": 20,
     "metadata": {},
     "output_type": "execute_result"
    }
   ],
   "source": [
    "20//5"
   ]
  },
  {
   "cell_type": "code",
   "execution_count": 21,
   "id": "fa6e7757-f846-4c4c-94e3-ac1c2569d6a3",
   "metadata": {},
   "outputs": [
    {
     "data": {
      "text/plain": [
       "64"
      ]
     },
     "execution_count": 21,
     "metadata": {},
     "output_type": "execute_result"
    }
   ],
   "source": [
    "2**6"
   ]
  },
  {
   "cell_type": "markdown",
   "id": "1cf48492-3921-4ce1-8ef3-94528d791df3",
   "metadata": {},
   "source": [
    "### [Q4.] Create a list of length 10 of your choice containing multiple types of data. Using for loop print the element and its data type."
   ]
  },
  {
   "cell_type": "code",
   "execution_count": 23,
   "id": "148b5be1-a320-4897-9261-793d3e7ba80d",
   "metadata": {},
   "outputs": [
    {
     "name": "stdout",
     "output_type": "stream",
     "text": [
      "<class 'int'>\n",
      "<class 'int'>\n",
      "<class 'int'>\n",
      "<class 'int'>\n",
      "<class 'str'>\n",
      "<class 'str'>\n",
      "<class 'bool'>\n",
      "<class 'bool'>\n",
      "<class 'float'>\n",
      "<class 'tuple'>\n"
     ]
    }
   ],
   "source": [
    "l = [1,2,3,4,'rahul','pwskills',True,False,53.63,()]\n",
    "for i in l :\n",
    "    print(type(i))"
   ]
  },
  {
   "cell_type": "markdown",
   "id": "6d6c16c8-764d-49e5-87c6-1f9023632279",
   "metadata": {},
   "source": [
    "### [Q5.] Using a while loop, verify if the number A is purely divisible by number B and if so then how many times it can be divisible."
   ]
  },
  {
   "cell_type": "code",
   "execution_count": 24,
   "id": "a6f29f0d-2788-47a0-9ec9-e33f8479c0f0",
   "metadata": {},
   "outputs": [
    {
     "name": "stdin",
     "output_type": "stream",
     "text": [
      "enter the value of A: 6\n",
      "enter the value of B: 3\n"
     ]
    },
    {
     "name": "stdout",
     "output_type": "stream",
     "text": [
      "number A is purely divisible by B  1 times.\n"
     ]
    }
   ],
   "source": [
    "A = int(input(\"enter the value of A:\"))\n",
    "B = int(input(\"enter the value of B:\"))\n",
    "count = 0\n",
    "while A%B==0:\n",
    "    count +=1\n",
    "    A=A/B\n",
    "    \n",
    "if count > 0:\n",
    "    print (\"number A is purely divisible by B \",count,\"times.\")\n",
    "else :\n",
    "    print (\"number A is not purely divisible by B.\")"
   ]
  },
  {
   "cell_type": "markdown",
   "id": "b6204823-c2cf-45a3-af3b-1df9443ec1a5",
   "metadata": {},
   "source": [
    "### [Q6.] Create a list containing 25 int type data. Using for loop and if-else condition print if the element is divisible by 3 or not."
   ]
  },
  {
   "cell_type": "code",
   "execution_count": 27,
   "id": "28fbef9a-c515-445c-9bf7-953d32e9e100",
   "metadata": {},
   "outputs": [
    {
     "name": "stdout",
     "output_type": "stream",
     "text": [
      "1 - not divisible by 3\n",
      "2 - not divisible by 3\n",
      "3 - it is divisible by 3\n",
      "4 - not divisible by 3\n",
      "5 - not divisible by 3\n",
      "6 - it is divisible by 3\n",
      "7 - not divisible by 3\n",
      "8 - not divisible by 3\n",
      "9 - it is divisible by 3\n",
      "10 - not divisible by 3\n",
      "11 - not divisible by 3\n",
      "12 - it is divisible by 3\n",
      "13 - not divisible by 3\n",
      "14 - not divisible by 3\n",
      "15 - it is divisible by 3\n",
      "16 - not divisible by 3\n",
      "17 - not divisible by 3\n",
      "18 - it is divisible by 3\n",
      "19 - not divisible by 3\n",
      "20 - not divisible by 3\n",
      "21 - it is divisible by 3\n",
      "22 - not divisible by 3\n",
      "23 - not divisible by 3\n",
      "24 - it is divisible by 3\n",
      "25 - not divisible by 3\n"
     ]
    }
   ],
   "source": [
    "l = [1,2,3,4,5,6,7,8,9,10,11,12,13,14,15,16,17,18,19,20,21,22,23,24,25]\n",
    "for i in l :\n",
    "    if i%3==0 :\n",
    "        print(i ,'- it is divisible by 3')\n",
    "    else :\n",
    "        print(i ,'- not divisible by 3')"
   ]
  },
  {
   "cell_type": "markdown",
   "id": "c7771230-6fa6-4750-9693-3832fadd8a24",
   "metadata": {},
   "source": [
    "### [Q7.] What do you understand about mutable and immutable data types? Give examples for both showing this property."
   ]
  },
  {
   "cell_type": "markdown",
   "id": "64d3a873-fc6b-49c1-bce8-993b6279851b",
   "metadata": {},
   "source": [
    "MUTABLE :- A mutable object can be changed after it is created."
   ]
  },
  {
   "cell_type": "code",
   "execution_count": 32,
   "id": "659476ae-d620-4727-ac25-80d7f8367fa9",
   "metadata": {},
   "outputs": [],
   "source": [
    "m = [1,2,3,4,'RAHUL',True] # it is mutable data type"
   ]
  },
  {
   "cell_type": "code",
   "execution_count": 34,
   "id": "af37b6a9-7673-45e6-bb06-0fe43ed7eaca",
   "metadata": {},
   "outputs": [],
   "source": [
    "m[3] = 6 #value changed"
   ]
  },
  {
   "cell_type": "code",
   "execution_count": 35,
   "id": "c549c0a6-1afa-4bdb-b653-94d691494f16",
   "metadata": {},
   "outputs": [
    {
     "data": {
      "text/plain": [
       "[1, 2, 3, 6, 'RAHUL', True]"
      ]
     },
     "execution_count": 35,
     "metadata": {},
     "output_type": "execute_result"
    }
   ],
   "source": [
    "m"
   ]
  },
  {
   "cell_type": "markdown",
   "id": "5dd7c1a2-b797-42a2-9746-f2e46895c6c3",
   "metadata": {},
   "source": [
    "IMMUTABLE :- An immutable object cannot be changed after it is created."
   ]
  },
  {
   "cell_type": "code",
   "execution_count": null,
   "id": "872ecbba-fc47-45a9-8fa4-4054a28dc7f8",
   "metadata": {},
   "outputs": [],
   "source": []
  }
 ],
 "metadata": {
  "kernelspec": {
   "display_name": "Python 3 (ipykernel)",
   "language": "python",
   "name": "python3"
  },
  "language_info": {
   "codemirror_mode": {
    "name": "ipython",
    "version": 3
   },
   "file_extension": ".py",
   "mimetype": "text/x-python",
   "name": "python",
   "nbconvert_exporter": "python",
   "pygments_lexer": "ipython3",
   "version": "3.10.6"
  }
 },
 "nbformat": 4,
 "nbformat_minor": 5
}
