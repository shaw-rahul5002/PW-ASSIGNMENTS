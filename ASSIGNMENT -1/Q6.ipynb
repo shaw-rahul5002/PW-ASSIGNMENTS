{
 "cells": [
  {
   "cell_type": "code",
   "execution_count": 15,
   "id": "3d86e618-86c8-4ddf-93e7-8d0da37d8397",
   "metadata": {},
   "outputs": [
    {
     "name": "stdout",
     "output_type": "stream",
     "text": [
      "1 - not divisible by 3\n",
      "2 - not divisible by 3\n",
      "3 - it is divisible by 3\n",
      "4 - not divisible by 3\n",
      "5 - not divisible by 3\n",
      "6 - it is divisible by 3\n",
      "7 - not divisible by 3\n",
      "8 - not divisible by 3\n",
      "9 - it is divisible by 3\n",
      "10 - not divisible by 3\n",
      "11 - not divisible by 3\n",
      "12 - it is divisible by 3\n",
      "13 - not divisible by 3\n",
      "14 - not divisible by 3\n",
      "15 - it is divisible by 3\n",
      "16 - not divisible by 3\n",
      "17 - not divisible by 3\n",
      "18 - it is divisible by 3\n",
      "19 - not divisible by 3\n",
      "20 - not divisible by 3\n",
      "21 - it is divisible by 3\n",
      "22 - not divisible by 3\n",
      "23 - not divisible by 3\n",
      "24 - it is divisible by 3\n",
      "25 - not divisible by 3\n"
     ]
    }
   ],
   "source": [
    "l = [1,2,3,4,5,6,7,8,9,10,11,12,13,14,15,16,17,18,19,20,21,22,23,24,25]\n",
    "for i in l :\n",
    "    if i%3==0 :\n",
    "        print (i , '- it is divisible by 3')\n",
    "    else : \n",
    "        print (i , '- not divisible by 3')\n",
    "    "
   ]
  },
  {
   "cell_type": "code",
   "execution_count": null,
   "id": "32110bbf-5d8f-4596-9283-26ca1f9e2b79",
   "metadata": {},
   "outputs": [],
   "source": []
  }
 ],
 "metadata": {
  "kernelspec": {
   "display_name": "Python 3 (ipykernel)",
   "language": "python",
   "name": "python3"
  },
  "language_info": {
   "codemirror_mode": {
    "name": "ipython",
    "version": 3
   },
   "file_extension": ".py",
   "mimetype": "text/x-python",
   "name": "python",
   "nbconvert_exporter": "python",
   "pygments_lexer": "ipython3",
   "version": "3.10.6"
  }
 },
 "nbformat": 4,
 "nbformat_minor": 5
}
