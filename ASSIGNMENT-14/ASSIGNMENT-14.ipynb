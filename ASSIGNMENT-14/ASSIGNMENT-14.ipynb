{
 "cells": [
  {
   "cell_type": "markdown",
   "id": "515df0e3-fb7c-4193-aaf1-0924a669f926",
   "metadata": {},
   "source": [
    "### [Q1.] What is an API? Give an example, where an API is used in real life."
   ]
  },
  {
   "cell_type": "markdown",
   "id": "b11e319a-07a1-431f-bd72-3188f389a6a3",
   "metadata": {},
   "source": [
    "##### [Ans]\n",
    "An API or Application Programming Interface, is a set of protocols, routines, and tools for building software application.\n",
    "\n",
    "One example of an API being used in real life is with the Google Maps API. The Google Maps API allows developers to integrate Google Maps into their own application, and provides a way for users to interact with the maps and access location-based data.\n"
   ]
  },
  {
   "cell_type": "markdown",
   "id": "861c0d42-f4f0-42cf-8104-89a5154536c3",
   "metadata": {},
   "source": [
    "### [Q2.] Give advantages and disadvantages of using API."
   ]
  },
  {
   "cell_type": "markdown",
   "id": "47c2991c-5437-4be8-8f4d-8d6909017e4b",
   "metadata": {},
   "source": [
    "##### [Ans]\n",
    "ADVANTAGES :-\n",
    "\n",
    "[1.] Increased functionality.\n",
    "\n",
    "[2.] Reduced development time.\n",
    "\n",
    "[3.] Improved user experience.\n",
    "\n",
    "DISADVANTAGES :-\n",
    "\n",
    "[1.] Security risks.\n",
    "\n",
    "[2.] Reliability issues.\n",
    "\n",
    "[3.] Complexity."
   ]
  },
  {
   "cell_type": "markdown",
   "id": "611cddb5-5482-4457-a97b-60a0a7a6525b",
   "metadata": {},
   "source": [
    "### [Q3.] What is a Web API? Differentiate between API and Web API."
   ]
  },
  {
   "cell_type": "markdown",
   "id": "2380d01b-016d-4714-9016-58ed41c14fd2",
   "metadata": {},
   "source": [
    "##### [Ans]\n",
    "A web API, or Web Application Programming Interface, is an API that is accessed over the internet using HTTP (Hypertext Transfer Protocol).\n",
    "\n",
    "The main difference between a web API and an API is that web API is accessed over the internet using HTTP, while an API can be accessed locally or over a network using a variety of protocols."
   ]
  },
  {
   "cell_type": "markdown",
   "id": "7612d0c8-2b84-40c6-8012-04e6ae3b0fe6",
   "metadata": {},
   "source": [
    "### [Q4.] Explain REST and SOAP Architecture. Mention shortcomings of SOAP."
   ]
  },
  {
   "cell_type": "markdown",
   "id": "e8e91906-b4ee-43f8-a751-aef7a1b5536f",
   "metadata": {},
   "source": [
    "##### [Ans]\n",
    "REST ARCHITECTURE :- REST (Representational State Transfer) is an architectural style that uses HTTP protocols to access web services.\n",
    "\n",
    "SOAP ARCHITECTURE :- SOAP (Simple Object Access Protocol) is an XML-based messaging protocol that is used to exchange structured information between web services.\n",
    "\n",
    "SOAP has several shortcoming, includes :\n",
    "\n",
    "[1.] Complexity.\n",
    "\n",
    "[2.] Overhead.\n",
    "\n",
    "[3.] Limited support for web standards.\n",
    "\n",
    "[4.] Poor performance.\n",
    "\n",
    "[5.] Limited support for mobile devices.\n",
    "\n",
    "[6.] Limited caching."
   ]
  },
  {
   "cell_type": "markdown",
   "id": "3dcd9bcd-8939-4426-b92d-e2283ed13976",
   "metadata": {},
   "source": [
    "### [Q5.] Differentiate between REST and SOAP."
   ]
  },
  {
   "cell_type": "markdown",
   "id": "6562246c-f436-429b-b3be-85a442a7da8c",
   "metadata": {},
   "source": [
    "##### [Ans]\n",
    "REST is a lightweight, simple, and stateless architecture that uses multiple saata formats, while SOAP is a protocol that uses XML exclusively and is m"
   ]
  }
 ],
 "metadata": {
  "kernelspec": {
   "display_name": "Python 3 (ipykernel)",
   "language": "python",
   "name": "python3"
  },
  "language_info": {
   "codemirror_mode": {
    "name": "ipython",
    "version": 3
   },
   "file_extension": ".py",
   "mimetype": "text/x-python",
   "name": "python",
   "nbconvert_exporter": "python",
   "pygments_lexer": "ipython3",
   "version": "3.10.6"
  }
 },
 "nbformat": 4,
 "nbformat_minor": 5
}
