{
 "cells": [
  {
   "cell_type": "markdown",
   "id": "2101bf6c-093b-4544-afd1-aa6b78e8ae50",
   "metadata": {},
   "source": [
    "### Go to this given URL and solve the following questions.\n",
    "\n",
    "### URL: https://www.youtube.com/@PW-Foundation/videos"
   ]
  },
  {
   "cell_type": "code",
   "execution_count": 1,
   "id": "9e97ae33-4bc5-48d6-8773-3817295c7934",
   "metadata": {},
   "outputs": [],
   "source": [
    "import requests\n",
    "from bs4 import BeautifulSoup\n",
    "from pandas import DataFrame\n",
    "from json import loads"
   ]
  },
  {
   "cell_type": "code",
   "execution_count": 2,
   "id": "532f17ae-9ebc-4c06-9fc9-86906f5bf92b",
   "metadata": {},
   "outputs": [
    {
     "data": {
      "text/plain": [
       "<Response [200]>"
      ]
     },
     "execution_count": 2,
     "metadata": {},
     "output_type": "execute_result"
    }
   ],
   "source": [
    "url = \"https://www.youtube.com/@PW-Foundation/videos\"\n",
    "r = requests.get(url)\n",
    "r"
   ]
  },
  {
   "cell_type": "code",
   "execution_count": 3,
   "id": "6d9128fd-7991-4641-bec8-f9139087eb54",
   "metadata": {},
   "outputs": [],
   "source": [
    "soup = BeautifulSoup(r.text, 'html.parser')"
   ]
  },
  {
   "cell_type": "code",
   "execution_count": 4,
   "id": "44a8a8ac-c660-4f6f-a394-0484cfb723e1",
   "metadata": {},
   "outputs": [],
   "source": [
    "all_script_tags = soup.findAll('script')"
   ]
  },
  {
   "cell_type": "code",
   "execution_count": 19,
   "id": "b4caf7f4-12be-42e6-877e-52d75fe064a8",
   "metadata": {},
   "outputs": [],
   "source": [
    "def script_tag_to_json(tags: list) -> dict:\n",
    "    for tag in reversed(tags):\n",
    "        text: str = tag.text\n",
    "        if 'ytInitialData = {\"responseContext\"' in text:\n",
    "            return loads(text[20:-1])\n",
    "\n",
    "    raise ValueError('Required script tag not found in the given tags.')"
   ]
  },
  {
   "cell_type": "code",
   "execution_count": 6,
   "id": "78e12901-7359-4f57-a601-20e452ca903f",
   "metadata": {},
   "outputs": [],
   "source": [
    "data = script_tag_to_json(all_script_tags)"
   ]
  },
  {
   "cell_type": "code",
   "execution_count": 7,
   "id": "08c4c07f-45ed-4019-9a92-83c5ec6b9e35",
   "metadata": {},
   "outputs": [],
   "source": [
    "def get_contents_dict(data):\n",
    "    return data['contents']['twoColumnBrowseResultsRenderer']['tabs'][1]['tabRenderer']['content']['richGridRenderer']['contents']"
   ]
  },
  {
   "cell_type": "markdown",
   "id": "d399bf2e-e8d7-4a99-8349-0961dea98e25",
   "metadata": {},
   "source": [
    "### [Q1.] Write a python program to extract the video URL of the first five videos."
   ]
  },
  {
   "cell_type": "markdown",
   "id": "1a194050-13d7-439f-98a8-717c47092d33",
   "metadata": {},
   "source": [
    "##### [Ans]"
   ]
  },
  {
   "cell_type": "code",
   "execution_count": 8,
   "id": "14592c9b-4b54-4000-8310-bb5f8f522402",
   "metadata": {},
   "outputs": [
    {
     "data": {
      "text/plain": [
       "['https://www.youtube.com/watch?v=KWXKegvNa-I',\n",
       " 'https://www.youtube.com/watch?v=dArUpCasmnE',\n",
       " 'https://www.youtube.com/watch?v=HqG2QchBw8Y',\n",
       " 'https://www.youtube.com/watch?v=1izKrQHyx9M',\n",
       " 'https://www.youtube.com/watch?v=jXAb1evxaJc']"
      ]
     },
     "execution_count": 8,
     "metadata": {},
     "output_type": "execute_result"
    }
   ],
   "source": [
    "def get_videoUrl(data:dict, n: int = 5):\n",
    "    contents = get_contents_dict(data)\n",
    "\n",
    "    if n > 30:\n",
    "        raise ValueError('Max Limit is 30.')\n",
    "\n",
    "    result = []\n",
    "    for i in range(n):\n",
    "        result.append('https://www.youtube.com/watch?v=' +\n",
    "                      contents[i]['richItemRenderer']['content']['videoRenderer']['videoId'])\n",
    "\n",
    "    return result\n",
    "\n",
    "get_videoUrl(data)"
   ]
  },
  {
   "cell_type": "markdown",
   "id": "2a89bbea-d089-45fc-9466-1ff8b685941c",
   "metadata": {},
   "source": [
    "### [Q2.] Write a python program to extract the URL of the video thumbnails of the first five videos."
   ]
  },
  {
   "cell_type": "markdown",
   "id": "3396a449-e1c9-4eaa-995d-a5d21ea8038e",
   "metadata": {},
   "source": [
    "##### [Ans]"
   ]
  },
  {
   "cell_type": "code",
   "execution_count": 9,
   "id": "e55aa97d-3e7e-413d-8f13-cc09a12b2d35",
   "metadata": {},
   "outputs": [
    {
     "data": {
      "text/plain": [
       "['https://i.ytimg.com/vi/KWXKegvNa-I/hqdefault.jpg?sqp=-oaymwEjCNACELwBSFryq4qpAxUIARUAAAAAGAElAADIQj0AgKJDeAE=&rs=AOn4CLDmSg3HSTm6r9HO6jbtt6X2k60Vhg',\n",
       " 'https://i.ytimg.com/vi/dArUpCasmnE/hqdefault.jpg?sqp=-oaymwEjCNACELwBSFryq4qpAxUIARUAAAAAGAElAADIQj0AgKJDeAE=&rs=AOn4CLBZooZVux6hi4Pe2o44xgW0ZidzdA',\n",
       " 'https://i.ytimg.com/vi/HqG2QchBw8Y/hqdefault.jpg?sqp=-oaymwEjCNACELwBSFryq4qpAxUIARUAAAAAGAElAADIQj0AgKJDeAE=&rs=AOn4CLCCZpClghOPGpOOQ8S40M4xsoAeAA',\n",
       " 'https://i.ytimg.com/vi/1izKrQHyx9M/hqdefault.jpg?sqp=-oaymwEjCNACELwBSFryq4qpAxUIARUAAAAAGAElAADIQj0AgKJDeAE=&rs=AOn4CLBGtmz4N3ui0L2WZs2S7qHvnIwQmQ',\n",
       " 'https://i.ytimg.com/vi/jXAb1evxaJc/hqdefault.jpg?sqp=-oaymwEjCNACELwBSFryq4qpAxUIARUAAAAAGAElAADIQj0AgKJDeAE=&rs=AOn4CLDmeiri9cimEVHPiAh5ootidgIzIg']"
      ]
     },
     "execution_count": 9,
     "metadata": {},
     "output_type": "execute_result"
    }
   ],
   "source": [
    "\n",
    "def get_thumbnails(data: dict, n: int = 5):\n",
    "    contents = get_contents_dict(data)\n",
    "\n",
    "    if n > 30:\n",
    "        raise ValueError('Max Limit is 30.')\n",
    "\n",
    "    result = []\n",
    "    for i in range(n):\n",
    "        result.append(contents[i]['richItemRenderer']['content']['videoRenderer']['thumbnail']['thumbnails'][-1]['url'])\n",
    "\n",
    "    return result\n",
    "\n",
    "get_thumbnails(data)"
   ]
  },
  {
   "cell_type": "markdown",
   "id": "1538a932-83dc-4005-8ebf-6b559f746e4e",
   "metadata": {},
   "source": [
    "### [Q3.] Write a python program to extract the title of the first five videos."
   ]
  },
  {
   "cell_type": "markdown",
   "id": "224fd231-a231-4b48-a93f-e8eb5a706b79",
   "metadata": {},
   "source": [
    "##### [Ans]"
   ]
  },
  {
   "cell_type": "code",
   "execution_count": 10,
   "id": "8c1ea474-f544-4547-b6d0-a1689fba5d8b",
   "metadata": {},
   "outputs": [
    {
     "data": {
      "text/plain": [
       "['Something Big Coming Soon For Class - 9th & 10th Students 🔥 || Stay Tuned For More Updates 🖋️',\n",
       " 'Launching PAHAL Batch 🔥 For Class 11th Arts Students 💪',\n",
       " 'Launching FUNDO For Class - 6th to 8th Students 🔥💯 || Ab Hoga Padhai Ke Sath FUN 🤩',\n",
       " '⚡Unleashing the Power of PW Internationally⚡| Launching Physics Wallah Gulf',\n",
       " 'Big Announcement for Gulf Region Aspirants 🔥| Physics Wallah Gulf Channel Trailer🚀']"
      ]
     },
     "execution_count": 10,
     "metadata": {},
     "output_type": "execute_result"
    }
   ],
   "source": [
    "def get_title(data: dict, n:int = 5):\n",
    "    contents = get_contents_dict(data)\n",
    "\n",
    "    if n > 30:\n",
    "        raise ValueError('Max Limit is 30.')\n",
    "\n",
    "    result = []\n",
    "    for i in range(n):\n",
    "        result.append(contents[i]['richItemRenderer']['content']['videoRenderer']['title']['runs'][-1]['text'])\n",
    "\n",
    "    return result\n",
    "\n",
    "get_title(data)"
   ]
  },
  {
   "cell_type": "markdown",
   "id": "5f1b2289-0b16-4d04-a47d-b57b46ed5e22",
   "metadata": {},
   "source": [
    "### [Q4.] Write a python program to extract the number of views of the first five videos."
   ]
  },
  {
   "cell_type": "markdown",
   "id": "b092c67a-f325-41f4-9283-60b22d744b72",
   "metadata": {},
   "source": [
    "##### [Ans]"
   ]
  },
  {
   "cell_type": "code",
   "execution_count": 13,
   "id": "ee7e8bc5-4f6d-46dc-b3fb-71d4b1da44c7",
   "metadata": {},
   "outputs": [
    {
     "data": {
      "text/plain": [
       "[36114, 29425, 25066, 69395, 99058]"
      ]
     },
     "execution_count": 13,
     "metadata": {},
     "output_type": "execute_result"
    }
   ],
   "source": [
    "def get_viwes(data: dict, n: int = 5):\n",
    "    contents = get_contents_dict(data)\n",
    "\n",
    "    if n > 30:\n",
    "        raise ValueError('Max Limit is 30.')\n",
    "\n",
    "    result = []\n",
    "    for i in range(n):\n",
    "        result.append(int(contents[i]['richItemRenderer']['content']['videoRenderer']['viewCountText']['simpleText']\n",
    "                      [:-6].replace(',', '')))\n",
    "\n",
    "    return result\n",
    "\n",
    "get_viwes(data)"
   ]
  },
  {
   "cell_type": "markdown",
   "id": "111984e7-1874-43d4-8f97-dfae14215af0",
   "metadata": {},
   "source": [
    "### [Q5.] Write a python program to extract the time of posting of video for the first five videos."
   ]
  },
  {
   "cell_type": "markdown",
   "id": "9041eb2a-b498-4b25-9391-d65160bfcbb5",
   "metadata": {},
   "source": [
    "##### [Ans]"
   ]
  },
  {
   "cell_type": "code",
   "execution_count": 14,
   "id": "b2a94b52-98a2-4751-baa3-4acdf98219af",
   "metadata": {},
   "outputs": [
    {
     "data": {
      "text/plain": [
       "['8 days ago', '2 weeks ago', '2 weeks ago', '1 month ago', '1 month ago']"
      ]
     },
     "execution_count": 14,
     "metadata": {},
     "output_type": "execute_result"
    }
   ],
   "source": [
    "def get_time_of_posting(data: dict, n: int = 5):\n",
    "    contents = get_contents_dict(data)\n",
    "\n",
    "    if n > 30:\n",
    "        raise ValueError('Max Limit is 30.')\n",
    "\n",
    "    result = []\n",
    "    for i in range(n):\n",
    "        result.append(contents[i]['richItemRenderer']['content']['videoRenderer']['publishedTimeText']['simpleText'])\n",
    "\n",
    "    return result\n",
    "\n",
    "get_time_of_posting(data)"
   ]
  },
  {
   "cell_type": "markdown",
   "id": "cfa29cd1-d35b-478f-9c1c-e6936cc4093f",
   "metadata": {},
   "source": [
    "### Note: Save all the data scraped in the above questions in a CSV file.\n",
    "\n",
    "#### Save data in CSV format."
   ]
  },
  {
   "cell_type": "markdown",
   "id": "c8e974a1-2257-4087-bb7e-54d0540535f6",
   "metadata": {},
   "source": [
    "##### [Ans]"
   ]
  },
  {
   "cell_type": "code",
   "execution_count": 17,
   "id": "586cb78e-fc5a-4f7a-9dc9-ecd9e84235c7",
   "metadata": {},
   "outputs": [],
   "source": [
    "def get_channel_video_details(data: dict, n: int):\n",
    "    thumbnails = get_thumbnails(data, n)\n",
    "    time_of_posting = get_time_of_posting(data, n)\n",
    "    titles = get_title(data, n)\n",
    "    video_urls = get_videoUrl(data, n)\n",
    "\n",
    "    main_data = list(zip(video_urls, titles, thumbnails, time_of_posting))\n",
    "    \n",
    "    df = DataFrame.from_dict(main_data)\n",
    "    df.rename(\n",
    "        columns={\n",
    "            0: 'VIDEO_URLS',\n",
    "            1: 'TITLES',\n",
    "            2: 'THUMBNAIL_URLS',\n",
    "            3: 'TIME_OF_POSTING'\n",
    "        }, inplace=True)\n",
    "\n",
    "    return df"
   ]
  },
  {
   "cell_type": "code",
   "execution_count": 18,
   "id": "a3b7649b-9387-4a23-b314-4af6e043b51d",
   "metadata": {},
   "outputs": [],
   "source": [
    "channel_data = get_channel_video_details(data, 30)\n",
    "channel_data.to_csv('PW-Foundation.csv', index=False)"
   ]
  },
  {
   "cell_type": "markdown",
   "id": "f367cb7c-3359-4ebe-84df-41372951338f",
   "metadata": {},
   "source": []
  }
 ],
 "metadata": {
  "kernelspec": {
   "display_name": "Python 3 (ipykernel)",
   "language": "python",
   "name": "python3"
  },
  "language_info": {
   "codemirror_mode": {
    "name": "ipython",
    "version": 3
   },
   "file_extension": ".py",
   "mimetype": "text/x-python",
   "name": "python",
   "nbconvert_exporter": "python",
   "pygments_lexer": "ipython3",
   "version": "3.10.6"
  }
 },
 "nbformat": 4,
 "nbformat_minor": 5
}
