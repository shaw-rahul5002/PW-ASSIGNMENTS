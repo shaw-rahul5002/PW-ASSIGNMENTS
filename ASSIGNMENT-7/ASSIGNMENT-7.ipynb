{
 "cells": [
  {
   "cell_type": "markdown",
   "id": "2aee817a-615a-40f3-96ab-7654031218ed",
   "metadata": {
    "tags": []
   },
   "source": [
    "### [Q1.] What is Abstraction in OOps? Explain with an example."
   ]
  },
  {
   "cell_type": "markdown",
   "id": "ef3b4eaa-a490-4884-9689-3d0c64918ada",
   "metadata": {
    "jp-MarkdownHeadingCollapsed": true,
    "tags": []
   },
   "source": [
    "##### [Ans]\n",
    "Abstraction is a concept in object-oriented programming that refers to the ability to focus on essential features of an object while ignoring its non-essential details"
   ]
  },
  {
   "cell_type": "code",
   "execution_count": 1,
   "id": "63f34c68-5e61-4023-bda9-4e1336616570",
   "metadata": {},
   "outputs": [],
   "source": [
    "# Example of Abstraction :\n",
    "import abc\n",
    "class pwskills:\n",
    "    @abc.abstractmethod\n",
    "    def students_details(self):\n",
    "        pass\n",
    "    \n",
    "    @abc.abstractmethod    \n",
    "    def students_assignment(self):\n",
    "        pass\n",
    "    \n",
    "    @abc.abstractmethod\n",
    "    def students_marks(self):\n",
    "        pass"
   ]
  },
  {
   "cell_type": "code",
   "execution_count": 2,
   "id": "59c6ee7b-f7c8-46a3-b7d5-2b7eb8fd18f2",
   "metadata": {},
   "outputs": [],
   "source": [
    "class students_details(pwskills):\n",
    "    def students_details(self):\n",
    "        return \"this is a meth for taking students details\"\n",
    "    \n",
    "    def student_assignment(self):\n",
    "        return \"this is a meth for assign details for a paricular students\""
   ]
  },
  {
   "cell_type": "code",
   "execution_count": 3,
   "id": "237961ac-aa43-4b15-b6a0-66c583593abe",
   "metadata": {},
   "outputs": [],
   "source": [
    "class data_science_masters(pwskills):\n",
    "    def students_details(self):\n",
    "        return \"this will return a student details fordata  science master\"\n",
    "    \n",
    "    def students_assignment(self):\n",
    "        return\"this will give you a student assignment details for data science masters\""
   ]
  },
  {
   "cell_type": "code",
   "execution_count": 4,
   "id": "4f9f46d6-3b7a-4436-975b-85e9bed99414",
   "metadata": {},
   "outputs": [
    {
     "data": {
      "text/plain": [
       "'this will return a student details fordata  science master'"
      ]
     },
     "execution_count": 4,
     "metadata": {},
     "output_type": "execute_result"
    }
   ],
   "source": [
    "dsm = data_science_masters()\n",
    "dsm.students_details()"
   ]
  },
  {
   "cell_type": "code",
   "execution_count": 5,
   "id": "cfd0a492-523c-4fab-9d05-22e7eff1fac4",
   "metadata": {},
   "outputs": [
    {
     "data": {
      "text/plain": [
       "'this is a meth for taking students details'"
      ]
     },
     "execution_count": 5,
     "metadata": {},
     "output_type": "execute_result"
    }
   ],
   "source": [
    "sd = students_details()\n",
    "sd.students_details()"
   ]
  },
  {
   "cell_type": "markdown",
   "id": "8605f001-7434-4f0e-afbe-2b6a28a07584",
   "metadata": {
    "tags": []
   },
   "source": [
    "### [Q2.] Differentiate between Abstraction and Encapsulation. Explain with an example."
   ]
  },
  {
   "cell_type": "markdown",
   "id": "a40d05e5-bbaa-4bd4-a236-e5eabda11ede",
   "metadata": {
    "tags": []
   },
   "source": [
    "##### [Ans]\n",
    "ABSTRACTION : It is the process of identifying essential features and ignoring non-essential details. It is used to simply complex systems by breaking them down into smaller, more manageable parts.\n",
    "\n",
    "ENCAPSULATION : It is the process of hiding the implementation details of an object from the outside world. It is used to protect the data and behaviour of an object from being modified by external code."
   ]
  },
  {
   "cell_type": "code",
   "execution_count": 1,
   "id": "596bf64a-b08b-4bdd-84ff-dcffe67d7f6f",
   "metadata": {},
   "outputs": [],
   "source": [
    "#Example of abstraction and encapsulation :\n",
    "class Person :\n",
    "    def __init__(self):\n",
    "        self.name = \"JACK MATTE\"\n",
    "        \n",
    "    def bio(self):\n",
    "        self.addr = \"BAKERS STREET, LONDON\"\n",
    "        self.taxinfo = \"HUAPK29971\"\n",
    "        self.contact = \"2587413690\"\n",
    "        print(self.addr , self.taxinfo , self.contact)\n",
    "        \n",
    "    def interest (self):\n",
    "        self.favfood = \"CHINESE\"\n",
    "        self.hobbies = \"PYTHON PROGRAMMING\"\n",
    "        self.bloodgroup = \"O-\"\n",
    "        print(self.favfood, self.hobbies , self.bloodgroup)"
   ]
  },
  {
   "cell_type": "code",
   "execution_count": 2,
   "id": "a170c7f7-ee68-4775-a0a0-ebd12c4a3f9a",
   "metadata": {},
   "outputs": [],
   "source": [
    "obj7 = Person()"
   ]
  },
  {
   "cell_type": "code",
   "execution_count": 4,
   "id": "93cf6944-d0b4-42db-b6b9-01bc93462bf3",
   "metadata": {},
   "outputs": [
    {
     "name": "stdout",
     "output_type": "stream",
     "text": [
      "JACK MATTE\n",
      "BAKERS STREET, LONDON HUAPK29971 2587413690\n",
      "CHINESE PYTHON PROGRAMMING O-\n"
     ]
    }
   ],
   "source": [
    "print(obj7.name)\n",
    "obj7.bio()\n",
    "obj7.interest()"
   ]
  },
  {
   "cell_type": "markdown",
   "id": "34070517-e8f2-4935-a4d6-5960c9270c31",
   "metadata": {
    "tags": []
   },
   "source": [
    "### [Q3.] What is abc module in python? Why is it used?"
   ]
  },
  {
   "cell_type": "markdown",
   "id": "48cc25ae-079f-4e21-92ae-4d9ba8b640da",
   "metadata": {
    "jp-MarkdownHeadingCollapsed": true,
    "tags": []
   },
   "source": [
    "##### [Ans]\n",
    "The abc module in Python stands for \"Abstract Base Class\". It is used to define abstract classes and methods that can be implemented by subclass."
   ]
  },
  {
   "cell_type": "markdown",
   "id": "4b908424-e8dd-47ca-ac75-612c17d9a655",
   "metadata": {},
   "source": [
    "### [Q4.] How can we achieve data abstraction?"
   ]
  },
  {
   "cell_type": "markdown",
   "id": "8d5f132d-8867-422e-9818-7d66721576af",
   "metadata": {},
   "source": [
    "##### [Ans]\n",
    "We can achieve data abstraction in Python through the use of abstract classes that interfaces. "
   ]
  },
  {
   "cell_type": "markdown",
   "id": "a665ecc1-0aa8-43fc-a4ed-a45d8030e35b",
   "metadata": {},
   "source": [
    "### [Q5.] Can we create an instance of an abstract class? Explain your answer."
   ]
  },
  {
   "cell_type": "markdown",
   "id": "6f81cd34-ec97-4407-a32c-b8496211ce09",
   "metadata": {},
   "source": [
    "##### [Ans]\n",
    "No, we cannot create an instance of an abstract class in Python. An abstract class is a class that contains one or more abstract methods, which are methods that have a declaration but do not have an implementation. Since "
   ]
  }
 ],
 "metadata": {
  "kernelspec": {
   "display_name": "Python 3 (ipykernel)",
   "language": "python",
   "name": "python3"
  },
  "language_info": {
   "codemirror_mode": {
    "name": "ipython",
    "version": 3
   },
   "file_extension": ".py",
   "mimetype": "text/x-python",
   "name": "python",
   "nbconvert_exporter": "python",
   "pygments_lexer": "ipython3",
   "version": "3.10.6"
  }
 },
 "nbformat": 4,
 "nbformat_minor": 5
}
