{
 "cells": [
  {
   "cell_type": "markdown",
   "id": "a626da7c-6a13-401b-a9d9-5e2e14af72bc",
   "metadata": {},
   "source": [
    "### [Q1.] Explain GET and POST methods."
   ]
  },
  {
   "cell_type": "markdown",
   "id": "fbffe7ca-2981-4ccb-b542-6d40c16b63e5",
   "metadata": {},
   "source": [
    "##### [Ans]\n",
    "GET METHODS :- It is used to retrive data from the server. When a user submits a 'GET' request, the data is sent as part of the URL. This means that the data is visible in the URL and can be bookmarked or cached by the browser.\n",
    "\n",
    "POST METHODS :- It is used to submit data to the server. When a user submits a 'POST' request, the data is sent in the body of the HTTP request. This means that the data is not visible in the URL and cannot be bookmarked or cached by the browser."
   ]
  },
  {
   "cell_type": "markdown",
   "id": "218cff34-a625-448f-a728-b33297d7d4b0",
   "metadata": {},
   "source": [
    "### [Q2.] Why is request used in Flask?"
   ]
  },
  {
   "cell_type": "markdown",
   "id": "120a5584-311d-4c33-ace0-b4858a21b71b",
   "metadata": {},
   "source": [
    "##### [Ans]\n",
    "In Flask, 'request' is used to handle incoming HTTP requests. You can use it to access the data sebt by the client in the request, such as data, JSON data, or file uploads."
   ]
  },
  {
   "cell_type": "markdown",
   "id": "bc49b355-1f79-44b9-a577-20841ba9695d",
   "metadata": {},
   "source": [
    "### [Q3.] Why is redirect() used in Flask?"
   ]
  },
  {
   "cell_type": "markdown",
   "id": "77727c70-91d1-4d02-8910-d22fef0b7ee1",
   "metadata": {},
   "source": [
    "##### [Ans]\n",
    "In Flask, 'redirect()' is a function that is used to redirect the client to a different URL."
   ]
  },
  {
   "cell_type": "markdown",
   "id": "0b878d98-79f3-41fb-bacb-cce821fe5932",
   "metadata": {},
   "source": [
    "### [Q4.] What are templates in Flask? Why is the render_template() function used?"
   ]
  },
  {
   "cell_type": "markdown",
   "id": "1ecebae6-18f3-458b-b3da-4b709850cedc",
   "metadata": {},
   "source": [
    "##### [Ans]\n",
    "In Flask, templates is a file that contains HTML and other dynamic elements, such as variables and control structures.\n",
    "\n",
    "The render_template() function in Flask is used to render a template too generate a dynamic HTML page."
   ]
  },
  {
   "cell_type": "markdown",
   "id": "67ce27fa-aa49-46b4-b513-9ac28b453f58",
   "metadata": {},
   "source": [
    "### [Q5.] Create a simple API. Use Postman to test it. Attach the screenshot of the output in the Jupyter Notebook."
   ]
  },
  {
   "cell_type": "code",
   "execution_count": null,
   "id": "74381a13-64e2-4206-80f3-82064b51d748",
   "metadata": {},
   "outputs": [],
   "source": [
    "from flask import Flask, jsonify, request\n",
    "\n",
    "app = Flask(__name__)\n",
    "\n",
    "# Define the company and employees data\n",
    "company = {'name': 'Acme Inc.', 'employees': [\n",
    "    {'name': 'Sarfraj', 'title': 'Data Scientist'},\n",
    "    {'name': 'Abhishek ', 'title': 'Web Developer'},\n",
    "    {'name': 'Faizan ', 'title': 'Sales Manager'}\n",
    "]}\n",
    "\n",
    "# Define a route to get the company name\n",
    "@app.route('/company/name', methods=['GET'])\n",
    "def get_company_name():\n",
    "    return jsonify({'name': company['name']})\n",
    "\n",
    "# Define a route to get the employees\n",
    "@app.route('/company/employees', methods=['GET'])\n",
    "def get_employees():\n",
    "    return jsonify({'employees': company['employees']})\n",
    "\n",
    "# Define a route to add an employee\n",
    "@app.route('/company/employees', methods=['POST'])\n",
    "def add_employee():\n",
    "    employee = request.get_json()\n",
    "    company['employees'].append(employee)\n",
    "    return jsonify({'employees': company['employees']})\n",
    "\n",
    "if __name__ == '__main__':\n",
    "    app.run(debug=True)"
   ]
  },
  {
   "cell_type": "code",
   "execution_count": null,
   "id": "1431e32d-e9d8-4076-8dec-7e544738e104",
   "metadata": {},
   "outputs": [],
   "source": []
  }
 ],
 "metadata": {
  "kernelspec": {
   "display_name": "Python 3 (ipykernel)",
   "language": "python",
   "name": "python3"
  },
  "language_info": {
   "codemirror_mode": {
    "name": "ipython",
    "version": 3
   },
   "file_extension": ".py",
   "mimetype": "text/x-python",
   "name": "python",
   "nbconvert_exporter": "python",
   "pygments_lexer": "ipython3",
   "version": "3.10.6"
  }
 },
 "nbformat": 4,
 "nbformat_minor": 5
}
