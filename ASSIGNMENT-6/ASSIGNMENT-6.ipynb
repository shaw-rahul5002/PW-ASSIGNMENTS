{
 "cells": [
  {
   "cell_type": "markdown",
   "id": "aedb88fe-c23e-4c1e-85e8-4b1fc8cada44",
   "metadata": {},
   "source": [
    "### [Q1.] Explain Class and Object with respect to Object-Oriented Programming. Give a suitable example."
   ]
  },
  {
   "cell_type": "markdown",
   "id": "f93d1863-a57a-4458-8dad-418a92079979",
   "metadata": {},
   "source": [
    "##### [Ans]\n",
    "CLASS :- In object oriented program , a class is a blueprint for creating objects.\n",
    "\n",
    "OBJECT :- In object-oriented program , an object is an instance of a class with specific properties.\n",
    "\n",
    "Example : Class \"Person\" , the class might have properties like \"name\" , \"age\" , and \"gender\". When you create an object of the \"Person\" class , you might set the properties to \"John\" , \"30\" and \"male\", respectively."
   ]
  },
  {
   "cell_type": "markdown",
   "id": "f95f1aac-6121-4594-960c-69f410f1232b",
   "metadata": {},
   "source": [
    "### [Q2.] Name the four pillars of OOPs."
   ]
  },
  {
   "cell_type": "markdown",
   "id": "239e454e-e03a-40d8-b13b-92293d492df7",
   "metadata": {},
   "source": [
    "##### [Ans]\n",
    "The four pillars of oops are :\n",
    "1. Polymorphism\n",
    "2. Inheritance\n",
    "3. Abstraction\n",
    "4. Encapsulation"
   ]
  },
  {
   "cell_type": "markdown",
   "id": "58b4c83e-32a9-49e9-a73a-f2793aa6ccb9",
   "metadata": {},
   "source": [
    "### [Q3.] Explain why the '___init___()' function is used. Give a suitable example."
   ]
  },
  {
   "cell_type": "markdown",
   "id": "63e88106-5eca-4a6a-9801-cd2db519904d",
   "metadata": {},
   "source": [
    "##### [Ans]\n",
    "The \"__init__()\" function is used to initialize the attributes of that class.\n",
    "\n",
    "Example : If a class is \"Person\" , then the attributes will be name , age , male , etc."
   ]
  },
  {
   "cell_type": "markdown",
   "id": "24585731-20ce-433a-9917-ebf9dc0f833b",
   "metadata": {},
   "source": [
    "### [Q4.] Why self is used in OOPs?"
   ]
  },
  {
   "cell_type": "markdown",
   "id": "6cd876f4-0093-4c8d-a03e-c5ecbd4ebd74",
   "metadata": {},
   "source": [
    "##### [Ans]\n",
    "In OOPs , 'self' is used to access the attributes and methods of that object."
   ]
  },
  {
   "cell_type": "markdown",
   "id": "70976444-b23b-4a71-9cb9-35ec1d7c4eff",
   "metadata": {},
   "source": [
    "### [Q5.] What is inheritance? Give an example for each type of inheritance."
   ]
  },
  {
   "cell_type": "markdown",
   "id": "8589e364-31fb-4a73-b7e7-4c4acb0aba30",
   "metadata": {},
   "source": [
    "Inheritance allows us to define a class that inheerits all the methods and properties from another class.\n",
    "\n",
    "There are 5 types of inheritance :\n",
    "1. Single inheritance\n",
    "2. Multiple inheritance\n",
    "3. Multilevel inheritance\n",
    "4. Hierarchical inheritance\n",
    "5. Hybrid inheritance"
   ]
  },
  {
   "cell_type": "code",
   "execution_count": 1,
   "id": "e5d1c2ee-3764-4d1b-a872-1acdbdaa193a",
   "metadata": {},
   "outputs": [],
   "source": [
    "# Example of single inheritance :\n",
    "class Parent:\n",
    "    def func1(self):\n",
    "        print(\"THIS FUNCTION IS A PARENT CLASS\")\n",
    "        \n",
    "class Child(Parent):\n",
    "    def func2(self):\n",
    "        print(\"THIS FUNCTION IS A CHILD FUNCTION\")"
   ]
  },
  {
   "cell_type": "code",
   "execution_count": 2,
   "id": "474cef16-226e-4b7f-9432-54d7fb0a0946",
   "metadata": {},
   "outputs": [],
   "source": [
    "object = Child()"
   ]
  },
  {
   "cell_type": "code",
   "execution_count": 6,
   "id": "c1ec9df0-e548-45fa-aa59-fffbdf6be65b",
   "metadata": {},
   "outputs": [
    {
     "name": "stdout",
     "output_type": "stream",
     "text": [
      "THIS FUNCTION IS A PARENT CLASS\n",
      "THIS FUNCTION IS A CHILD FUNCTION\n"
     ]
    }
   ],
   "source": [
    "object.func1()\n",
    "object.func2()"
   ]
  },
  {
   "cell_type": "code",
   "execution_count": 13,
   "id": "6edb2bc3-5156-439c-8049-7bd21ba52e3a",
   "metadata": {},
   "outputs": [],
   "source": [
    "# Example of multiple inheritance :\n",
    "class father:\n",
    "    father_name = \"\"\n",
    "    def father(self):\n",
    "        print(self.father_name)\n",
    "        \n",
    "class mother:\n",
    "    mother_name = \"\"\n",
    "    def mother(self):\n",
    "        print(self.mother_name)\n",
    "        \n",
    "class son(father,mother):\n",
    "    def parents(self):\n",
    "        print(\"FATHER :\" ,self.father_name)\n",
    "        print(\"MOTHER :\" ,self.mother_name)"
   ]
  },
  {
   "cell_type": "code",
   "execution_count": 8,
   "id": "3f64234c-7cf2-4bfb-85dd-63a6ba24d35e",
   "metadata": {},
   "outputs": [],
   "source": [
    "s1 = son()"
   ]
  },
  {
   "cell_type": "code",
   "execution_count": 14,
   "id": "a317eb4e-f62b-4cf1-8ef6-3ee3b4a01bb4",
   "metadata": {},
   "outputs": [],
   "source": [
    "s1.father_name = \"DILIP SHAW\"\n",
    "s1.mother_name = \"PRITI SHAW\""
   ]
  },
  {
   "cell_type": "code",
   "execution_count": 15,
   "id": "4ca11149-6359-4dc1-b8fd-76189faa98f1",
   "metadata": {},
   "outputs": [
    {
     "name": "stdout",
     "output_type": "stream",
     "text": [
      "FATHER : DILIP SHAW\n",
      "MOTHER : PRITI SHAW\n"
     ]
    }
   ],
   "source": [
    "s1.parents()"
   ]
  },
  {
   "cell_type": "code",
   "execution_count": 37,
   "id": "3cc83737-60e6-449f-94fb-c6be4acff063",
   "metadata": {},
   "outputs": [],
   "source": [
    "# Example of multilevel inheritance :\n",
    "class grandfather :\n",
    "    def __init__(self , grandfather_name):\n",
    "        self.grandfather_name = grandfather_name\n",
    "        \n",
    "class father(grandfather):\n",
    "    def __init__(self , father_name , grandfather_name):\n",
    "        super().__init__(grandfather_name)\n",
    "        self.father_name = father_name\n",
    "        \n",
    "class son(father):\n",
    "    def __init__(self, son_name , father_name , grandfather_name):\n",
    "        super().__init__(father_name , grandfather_name)\n",
    "        self.son_name = son_name\n",
    "        \n",
    "    def print_name(self):\n",
    "        print(\"GRANDFATHER NAME :\",self.grandfather_name)\n",
    "        print(\"FATHER NAME :\",self.father_name)\n",
    "        print(\"SON NAME :\",self.son_name)"
   ]
  },
  {
   "cell_type": "code",
   "execution_count": 39,
   "id": "776462ab-2dc0-445c-86e4-d3fce568079f",
   "metadata": {},
   "outputs": [],
   "source": [
    "s2 = son('LUV' , 'RAM' , 'DUSRAT')"
   ]
  },
  {
   "cell_type": "code",
   "execution_count": 40,
   "id": "662f5979-6a79-4e9d-98bc-2ed554ec57e2",
   "metadata": {},
   "outputs": [
    {
     "name": "stdout",
     "output_type": "stream",
     "text": [
      "GRANDFATHER NAME : DUSRAT\n",
      "FATHER NAME : RAM\n",
      "SON NAME : LUV\n"
     ]
    }
   ],
   "source": [
    "s2.print_name()"
   ]
  },
  {
   "cell_type": "code",
   "execution_count": 24,
   "id": "511d4d42-f2c8-4b83-b4dd-7b1918ddbf27",
   "metadata": {},
   "outputs": [],
   "source": [
    "# Example of hieratchical inheritance :\n",
    "class parent1:\n",
    "    def func1(self):\n",
    "        print(\"THIS FUNCTION IS IN PARENT CLASS\")\n",
    "        \n",
    "class child1(parent1):\n",
    "    def func2(self):\n",
    "        print(\"THIS FUNCTION IS IN CHILD 1\")\n",
    "        \n",
    "class child2(parent1):\n",
    "    def func3(self):\n",
    "        print(\"THIS FUNCTION IS IN CHILD 2\")"
   ]
  },
  {
   "cell_type": "code",
   "execution_count": 25,
   "id": "3aa4d020-dccc-4356-b654-a050611c0e24",
   "metadata": {},
   "outputs": [],
   "source": [
    "object1 = child1()\n",
    "object2 = child2()"
   ]
  },
  {
   "cell_type": "code",
   "execution_count": 26,
   "id": "c756186d-04d3-42b2-8166-346ea23ad5e6",
   "metadata": {},
   "outputs": [
    {
     "name": "stdout",
     "output_type": "stream",
     "text": [
      "THIS FUNCTION IS IN PARENT CLASS\n",
      "THIS FUNCTION IS IN CHILD 1\n"
     ]
    }
   ],
   "source": [
    "object1.func1()\n",
    "object1.func2()"
   ]
  },
  {
   "cell_type": "code",
   "execution_count": 28,
   "id": "364c5e4a-880c-41e3-95a4-b27a4b6233c2",
   "metadata": {},
   "outputs": [
    {
     "name": "stdout",
     "output_type": "stream",
     "text": [
      "THIS FUNCTION IS IN PARENT CLASS\n",
      "THIS FUNCTION IS IN CHILD 2\n"
     ]
    }
   ],
   "source": [
    "object2.func1()\n",
    "object2.func3()"
   ]
  },
  {
   "cell_type": "code",
   "execution_count": 41,
   "id": "aea5189d-117e-4b7f-bdb7-b306584d7971",
   "metadata": {},
   "outputs": [],
   "source": [
    "# Example of hybrid inheritance :\n",
    "class school1 :\n",
    "    def func1(self):\n",
    "        print(\"THIS FUNCTION IS IN SCHOOL\")\n",
    "        \n",
    "class student1(school1) :\n",
    "    def func2(self):\n",
    "        print(\"THIS FUNCTION IS IN STUDENT 1\")\n",
    "        \n",
    "class student2(school1) :\n",
    "    def func2(self):\n",
    "        print(\"THIS FUNCTION IS IN STUDENT 2\")\n",
    "        \n",
    "class student3(student1 , student2) :\n",
    "    def func4(self):\n",
    "        print(\"THIS FUNCTION IS IN STUDENT 3\")"
   ]
  },
  {
   "cell_type": "code",
   "execution_count": 43,
   "id": "53a7c8e0-b37d-4da2-a7cc-ae51dfa05957",
   "metadata": {},
   "outputs": [],
   "source": [
    "object3 = student3()"
   ]
  },
  {
   "cell_type": "code",
   "execution_count": 44,
   "id": "2308941c-a0ad-4989-8574-b2ddbea9abe3",
   "metadata": {},
   "outputs": [
    {
     "name": "stdout",
     "output_type": "stream",
     "text": [
      "THIS FUNCTION IS IN SCHOOL\n",
      "THIS FUNCTION IS IN STUDENT 1\n"
     ]
    }
   ],
   "source": [
    "object3.func1()\n",
    "object3.func2()"
   ]
  }
 ],
 "metadata": {
  "kernelspec": {
   "display_name": "Python 3 (ipykernel)",
   "language": "python",
   "name": "python3"
  },
  "language_info": {
   "codemirror_mode": {
    "name": "ipython",
    "version": 3
   },
   "file_extension": ".py",
   "mimetype": "text/x-python",
   "name": "python",
   "nbconvert_exporter": "python",
   "pygments_lexer": "ipython3",
   "version": "3.10.6"
  }
 },
 "nbformat": 4,
 "nbformat_minor": 5
}
