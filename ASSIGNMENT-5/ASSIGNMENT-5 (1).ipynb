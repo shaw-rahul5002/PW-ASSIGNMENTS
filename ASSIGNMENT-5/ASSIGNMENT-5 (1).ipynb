{
 "cells": [
  {
   "cell_type": "markdown",
   "id": "779051b4-3b2c-4e5c-914e-24b779239426",
   "metadata": {},
   "source": [
    "### [Q1.] Create a vehicle class with an init method having instance variables as name_of_vehicle, max_speed and average_of_vehicle."
   ]
  },
  {
   "cell_type": "markdown",
   "id": "6a97f855-ba3f-4d9d-bcea-e069c690798b",
   "metadata": {},
   "source": [
    "##### [Ans]"
   ]
  },
  {
   "cell_type": "code",
   "execution_count": 14,
   "id": "fa2b4c23-4650-4995-a3a8-c6c5bf58c11e",
   "metadata": {},
   "outputs": [],
   "source": [
    "class vehicle :\n",
    "    def __init__(self ,name_of_vehicle ,max_speed ,average_of_vehicle):\n",
    "        self.name_of_vehicle = name_of_vehicle\n",
    "        self.max_speed = max_speed\n",
    "        self.average_of_vehicle = average_of_vehicle\n",
    "    \n",
    "    def return_car_details(self) :\n",
    "        return self.name_of_vehicle ,self.max_speed ,self.average_of_vehicle"
   ]
  },
  {
   "cell_type": "code",
   "execution_count": 15,
   "id": "1f0ac341-835f-420f-a1c4-0ccf8f98f6ff",
   "metadata": {},
   "outputs": [],
   "source": [
    "Vehicle = vehicle( \"Mercedes\" , 250 , 22 )"
   ]
  },
  {
   "cell_type": "code",
   "execution_count": 16,
   "id": "7f9158dd-5e93-49f3-9a61-4bfd59e6662c",
   "metadata": {},
   "outputs": [
    {
     "data": {
      "text/plain": [
       "('Mercedes', 250, 22)"
      ]
     },
     "execution_count": 16,
     "metadata": {},
     "output_type": "execute_result"
    }
   ],
   "source": [
    "Vehicle.return_car_details()"
   ]
  },
  {
   "cell_type": "markdown",
   "id": "c050e597-406f-4c4f-a81d-accc42ef6cf3",
   "metadata": {},
   "source": [
    "### [Q2.] Create a child class car from the vehicle class created in Que 1, which will inherit the vehicle class. Create a method named seating_capacity which takes capacity as an argument and returns the name of the vehicle and its seating capacity."
   ]
  },
  {
   "cell_type": "markdown",
   "id": "f2eef3fd-ca4f-4422-95b4-1b434ea05c30",
   "metadata": {},
   "source": [
    "##### [Ans]"
   ]
  },
  {
   "cell_type": "code",
   "execution_count": 39,
   "id": "23c797f4-3363-416f-9a81-1ce6060b3f8f",
   "metadata": {},
   "outputs": [],
   "source": [
    "class vehicle1 :\n",
    "    def __init__ (self , name_of_vehicle , max_speed , average_of_vehicle):\n",
    "        self.name_of_vehicle = name_of_vehicle\n",
    "        self.max_speed = max_speed\n",
    "        self.average_of_vehicle = average_of_vehicle"
   ]
  },
  {
   "cell_type": "code",
   "execution_count": 45,
   "id": "8011dd65-786e-4167-8c63-66029ed93a6e",
   "metadata": {},
   "outputs": [],
   "source": [
    "class Car(vehicle1):\n",
    "    def __init__(self , name_of_vehicle , max_speed , average_of_vehicle , seating_capacity):\n",
    "        super().__init__(name_of_vehicle , max_speed , average_of_vehicle)\n",
    "        self.seating_capacity = seating_capacity\n",
    "        \n",
    "    def seating(self):\n",
    "        return self.name_of_vehicle , self.seating_capacity\n",
    "        "
   ]
  },
  {
   "cell_type": "code",
   "execution_count": 46,
   "id": "ffbf49a0-c081-4aa7-8930-0da929303a91",
   "metadata": {},
   "outputs": [],
   "source": [
    "car1 = Car(\"Mercedes\" , 250 , 22 , 2)"
   ]
  },
  {
   "cell_type": "code",
   "execution_count": 42,
   "id": "c651b4ab-1a84-4a7f-a3fa-3ecbaac84610",
   "metadata": {},
   "outputs": [
    {
     "data": {
      "text/plain": [
       "('Mercedes', 2)"
      ]
     },
     "execution_count": 42,
     "metadata": {},
     "output_type": "execute_result"
    }
   ],
   "source": [
    "car1.seating()"
   ]
  },
  {
   "cell_type": "markdown",
   "id": "9aa565fa-80eb-4274-84cd-58cf111f7030",
   "metadata": {},
   "source": [
    "### [Q3.] What is multiple inheritance? Write a python code to demonstrate multiple inheritance."
   ]
  },
  {
   "cell_type": "markdown",
   "id": "48f21554-9a1f-4530-aabb-6639a734024a",
   "metadata": {},
   "source": [
    "##### [Ans]\n",
    "Multiple inheritance is a feature in object oriented programming that allows a class to inherit attributes and methods from more than one parent class."
   ]
  },
  {
   "cell_type": "code",
   "execution_count": 52,
   "id": "01849464-0ef7-4800-b643-f1359a6ce9ac",
   "metadata": {},
   "outputs": [],
   "source": [
    "class class1:\n",
    "    def test_class1(self):\n",
    "        return \"MY NAME IS RAHUL SHAW\""
   ]
  },
  {
   "cell_type": "code",
   "execution_count": 53,
   "id": "04e0e307-6614-408e-b236-faf02c207574",
   "metadata": {},
   "outputs": [],
   "source": [
    "class class2(class1):\n",
    "    def test_class2(self):\n",
    "        return \"I AM 18 YEARS OLD\""
   ]
  },
  {
   "cell_type": "code",
   "execution_count": 54,
   "id": "b111a78e-47fd-49f7-8c74-438765ee359a",
   "metadata": {},
   "outputs": [],
   "source": [
    "class class3(class2):\n",
    "    def test_class3(self):\n",
    "        return \"I AM LEARNING DATA SCIENCE\""
   ]
  },
  {
   "cell_type": "code",
   "execution_count": 55,
   "id": "474a7d9f-3833-43c1-ba51-20893085cebc",
   "metadata": {},
   "outputs": [],
   "source": [
    "class inherit(class3):\n",
    "    pass"
   ]
  },
  {
   "cell_type": "code",
   "execution_count": 56,
   "id": "dc48a135-0a30-46a6-9ec1-40f3e96ac25d",
   "metadata": {},
   "outputs": [],
   "source": [
    "inheritance = inherit()"
   ]
  },
  {
   "cell_type": "code",
   "execution_count": 57,
   "id": "2ada1e41-2e9c-4ba1-9643-a44eec191cb0",
   "metadata": {},
   "outputs": [
    {
     "data": {
      "text/plain": [
       "'MY NAME IS RAHUL SHAW'"
      ]
     },
     "execution_count": 57,
     "metadata": {},
     "output_type": "execute_result"
    }
   ],
   "source": [
    "inheritance.test_class1()"
   ]
  },
  {
   "cell_type": "code",
   "execution_count": 58,
   "id": "8363aae9-a47d-49b6-ab09-7841edca236c",
   "metadata": {},
   "outputs": [
    {
     "data": {
      "text/plain": [
       "'I AM 18 YEARS OLD'"
      ]
     },
     "execution_count": 58,
     "metadata": {},
     "output_type": "execute_result"
    }
   ],
   "source": [
    "inheritance.test_class2()"
   ]
  },
  {
   "cell_type": "code",
   "execution_count": 59,
   "id": "eb7fdcfa-47ab-47de-b767-54532f70a013",
   "metadata": {},
   "outputs": [
    {
     "data": {
      "text/plain": [
       "'I AM LEARNING DATA SCIENCE'"
      ]
     },
     "execution_count": 59,
     "metadata": {},
     "output_type": "execute_result"
    }
   ],
   "source": [
    "inheritance.test_class3()"
   ]
  },
  {
   "cell_type": "markdown",
   "id": "b024d3b5-716b-4dd0-bcb0-724117979083",
   "metadata": {},
   "source": [
    "### [Q4.] What are getter and setter in python? Create a class and create a getter and a setter method in this class."
   ]
  },
  {
   "cell_type": "markdown",
   "id": "406345a4-72f9-4dd1-8ed3-0a3fa849fcf1",
   "metadata": {},
   "source": [
    "##### [Ans]\n",
    "GETTER :-\n",
    "In python , a getter is a method that retrieves the value of a private attribute.\n",
    "SETTER :-\n",
    "In python , a setter is a method that sets the value of a private attribute."
   ]
  },
  {
   "cell_type": "code",
   "execution_count": 14,
   "id": "a477da43-e60d-4716-87e0-71fe14d4335c",
   "metadata": {},
   "outputs": [],
   "source": [
    "class car :\n",
    "    def __init__(self , make , model , year):\n",
    "        self.__make = make\n",
    "        self.__model = model\n",
    "        self.__year = year\n",
    "             \n",
    "    def get_make(self) :\n",
    "        return self.__make\n",
    "    \n",
    "    def set_make(self, make) :\n",
    "        self.__make = make\n",
    "        "
   ]
  },
  {
   "cell_type": "code",
   "execution_count": 15,
   "id": "b2c4fd62-453c-4726-a2e8-e86afdb42433",
   "metadata": {},
   "outputs": [],
   "source": [
    "c = car(\"Mercedes\" , \"AMG GT\" , 2023)"
   ]
  },
  {
   "cell_type": "code",
   "execution_count": 16,
   "id": "a1fbcbb3-dd21-4aac-9e35-ded208656802",
   "metadata": {},
   "outputs": [
    {
     "name": "stdout",
     "output_type": "stream",
     "text": [
      "Mercedes\n"
     ]
    }
   ],
   "source": [
    "print(c.get_make())"
   ]
  },
  {
   "cell_type": "code",
   "execution_count": 17,
   "id": "c5f7ec62-374a-478d-8bbe-e27cdcad6b22",
   "metadata": {},
   "outputs": [],
   "source": [
    "c.set_make(\"BMW\")"
   ]
  },
  {
   "cell_type": "code",
   "execution_count": 18,
   "id": "71034efd-de2a-422b-8e2d-9510c8f67cff",
   "metadata": {},
   "outputs": [
    {
     "name": "stdout",
     "output_type": "stream",
     "text": [
      "BMW\n"
     ]
    }
   ],
   "source": [
    "print(c.get_make())"
   ]
  },
  {
   "cell_type": "markdown",
   "id": "a7907873-ae83-4a99-987a-29eb5a8e058f",
   "metadata": {},
   "source": [
    "### [Q5.] What is method overriding in python? Write a python code to demonstrate method overriding."
   ]
  },
  {
   "cell_type": "markdown",
   "id": "912c80a3-dac0-4d1c-81bd-17dd42ac1f73",
   "metadata": {},
   "source": [
    "##### [Ans]\n",
    "Method overriding is a feature in object-oriented programming that allows a subclass to provide its own implementation of a method that is already defined in its superclass. This is useful when you want to change or extend the behaviour of a method inherited from a superclass."
   ]
  },
  {
   "cell_type": "code",
   "execution_count": 6,
   "id": "ad653cee-d9aa-4a26-a90a-d8a732a2b88d",
   "metadata": {},
   "outputs": [],
   "source": [
    "class Animal:\n",
    "    def speak(self):\n",
    "        print(\"The animal speaks\")"
   ]
  },
  {
   "cell_type": "code",
   "execution_count": 7,
   "id": "0fc9f109-c5da-474d-9153-72ab41893827",
   "metadata": {},
   "outputs": [],
   "source": [
    "class Dog(Animal):\n",
    "    def speak(self):\n",
    "        print(\"The dog barks\")"
   ]
  },
  {
   "cell_type": "code",
   "execution_count": 8,
   "id": "9ca96157-7970-4cc7-82e1-7c19a44166ce",
   "metadata": {},
   "outputs": [],
   "source": [
    "my_dog = Dog()"
   ]
  },
  {
   "cell_type": "code",
   "execution_count": 9,
   "id": "6e69f527-e1bd-4055-a0a9-28d484756d1d",
   "metadata": {},
   "outputs": [
    {
     "name": "stdout",
     "output_type": "stream",
     "text": [
      "The dog barks\n"
     ]
    }
   ],
   "source": [
    "my_dog.speak()"
   ]
  },
  {
   "cell_type": "code",
   "execution_count": null,
   "id": "dc27ee26-d894-45a2-9287-5b7dd4ead312",
   "metadata": {},
   "outputs": [],
   "source": []
  }
 ],
 "metadata": {
  "kernelspec": {
   "display_name": "Python 3 (ipykernel)",
   "language": "python",
   "name": "python3"
  },
  "language_info": {
   "codemirror_mode": {
    "name": "ipython",
    "version": 3
   },
   "file_extension": ".py",
   "mimetype": "text/x-python",
   "name": "python",
   "nbconvert_exporter": "python",
   "pygments_lexer": "ipython3",
   "version": "3.10.6"
  }
 },
 "nbformat": 4,
 "nbformat_minor": 5
}
