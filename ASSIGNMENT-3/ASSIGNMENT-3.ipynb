{
 "cells": [
  {
   "cell_type": "markdown",
   "id": "71f53ca8-7f22-4477-9ee9-6e8863da630e",
   "metadata": {},
   "source": [
    "### [Q1.] Which keyword is used to create a function? Create a function to return a list of odd numbers in the range of 1 to 25."
   ]
  },
  {
   "cell_type": "markdown",
   "id": "22119131-71d6-400c-b105-57dc749eeec4",
   "metadata": {},
   "source": [
    "#### [Ans]\n",
    "The 'def' keyword is used to create a function."
   ]
  },
  {
   "cell_type": "code",
   "execution_count": 7,
   "id": "df323754-2f0f-445b-89c1-44b6d470d405",
   "metadata": {},
   "outputs": [],
   "source": [
    "def test1():\n",
    "    l =[]\n",
    "    for i in range (1,26):\n",
    "        if i%2!=0:\n",
    "            l.append(i)\n",
    "    return l\n",
    "        "
   ]
  },
  {
   "cell_type": "code",
   "execution_count": 9,
   "id": "ce96f64a-650d-4e27-9957-c3dc93aef106",
   "metadata": {},
   "outputs": [
    {
     "data": {
      "text/plain": [
       "[1, 3, 5, 7, 9, 11, 13, 15, 17, 19, 21, 23, 25]"
      ]
     },
     "execution_count": 9,
     "metadata": {},
     "output_type": "execute_result"
    }
   ],
   "source": [
    "test1()"
   ]
  },
  {
   "cell_type": "markdown",
   "id": "ef6bfe0c-4471-4429-8edf-d62f7162b82c",
   "metadata": {},
   "source": [
    "### [Q2.] Why *args and **kwargs is used in some functions? Create a function each for *args and **kwargs to demonstrate their use."
   ]
  },
  {
   "cell_type": "markdown",
   "id": "bd7c3149-5163-4571-969f-e694b5417657",
   "metadata": {},
   "source": [
    "#### [Ans]\n",
    "\"*args\" and \"**kwargs\" are used in function when you are unsure about the number of arguments to pass in the functions. "
   ]
  },
  {
   "cell_type": "code",
   "execution_count": 12,
   "id": "0f90bf6b-1841-4d1d-bb09-a97993baff65",
   "metadata": {},
   "outputs": [],
   "source": [
    "# example of *args :\n",
    "def test2(*args):\n",
    "    for i in args:\n",
    "        print(i)"
   ]
  },
  {
   "cell_type": "code",
   "execution_count": 13,
   "id": "670e9298-423f-4354-b0be-d8b6026ef1ef",
   "metadata": {},
   "outputs": [
    {
     "name": "stdout",
     "output_type": "stream",
     "text": [
      "1\n",
      "2\n",
      "3\n",
      "4\n",
      "5\n"
     ]
    }
   ],
   "source": [
    "test2(1,2,3,4,5)"
   ]
  },
  {
   "cell_type": "code",
   "execution_count": 16,
   "id": "ac336128-3b11-4c1d-82b8-e722fb9c7978",
   "metadata": {},
   "outputs": [],
   "source": [
    "# example of **kwargs :\n",
    "def test3(**kwargs):\n",
    "    for key , value in kwargs.items():\n",
    "        print(key,value)"
   ]
  },
  {
   "cell_type": "code",
   "execution_count": 21,
   "id": "7e20d741-a795-41e4-8b93-fe1cfffeaa6f",
   "metadata": {},
   "outputs": [
    {
     "name": "stdout",
     "output_type": "stream",
     "text": [
      "name rahul\n",
      "age 18\n",
      "city kolkata\n"
     ]
    }
   ],
   "source": [
    "test3(name  = 'rahul' , age = 18 , city = 'kolkata')"
   ]
  },
  {
   "cell_type": "markdown",
   "id": "dc7dd61b-95bc-4086-a3e4-50fe84a6c6d5",
   "metadata": {},
   "source": [
    "### Q3. What is an iterator in python? Name the method used to initialise the iterator object and the method used for iteration. Use these methods to print the first five elements of the given list [2, 4, 6, 8, 10, 12, 14, 16, 18, 20]."
   ]
  },
  {
   "cell_type": "markdown",
   "id": "53cf897e-10f4-465b-acb3-695a25378558",
   "metadata": {},
   "source": [
    "#### [Ans]\n",
    "An iterator in Python is an object that allows you to iterate over a sequence of elements or values.\n",
    "\n",
    "The method used to initialise the iterator object is 'iter()' and the method used to for iteration is 'next()'."
   ]
  },
  {
   "cell_type": "code",
   "execution_count": 22,
   "id": "27c54dc5-0d6d-41d1-a3fc-a31442d41d4a",
   "metadata": {},
   "outputs": [],
   "source": [
    "l = [2,4,6,8,10,12,14,16,18,20]"
   ]
  },
  {
   "cell_type": "code",
   "execution_count": 23,
   "id": "c3ecdb45-35fe-4182-b6bb-4b534e5943fe",
   "metadata": {},
   "outputs": [
    {
     "name": "stdout",
     "output_type": "stream",
     "text": [
      "2\n",
      "4\n",
      "6\n",
      "8\n",
      "10\n"
     ]
    }
   ],
   "source": [
    "for i in l[:5]:\n",
    "    print (i)\n",
    "    "
   ]
  },
  {
   "cell_type": "markdown",
   "id": "63fc60ba-1338-4f4e-918b-469179e3a46f",
   "metadata": {},
   "source": [
    "### [Q4.] What is a generator function in python? Why yield keyword is used? Give an example of a generator function."
   ]
  },
  {
   "cell_type": "markdown",
   "id": "76d6a875-1a6c-4969-a6a6-55ce35c251bc",
   "metadata": {},
   "source": [
    "#### [Ans]\n",
    "A generator function in Python is a special type of function that allows you to create iterations in a starightforward and concise way.\n",
    "\n",
    "In generator function 'yeild' keyword is used instaed of 'return' keyword to produce a sequence of values or elements.\n",
    "\n"
   ]
  },
  {
   "cell_type": "code",
   "execution_count": 24,
   "id": "6071b932-061a-404f-b2dc-a8427c684980",
   "metadata": {},
   "outputs": [],
   "source": [
    "# eample of generator function :\n",
    "def test4():\n",
    "    a,b = 0,1\n",
    "    while True:\n",
    "        yield a \n",
    "        a,b = b,a+b\n",
    "    "
   ]
  },
  {
   "cell_type": "code",
   "execution_count": 27,
   "id": "e15cb162-e481-4168-b3d5-4e8d5ce639d9",
   "metadata": {},
   "outputs": [],
   "source": [
    "fibonacci = test4()"
   ]
  },
  {
   "cell_type": "code",
   "execution_count": 28,
   "id": "fcfe839d-5f65-47c4-855e-7af9eb7f53ed",
   "metadata": {},
   "outputs": [
    {
     "name": "stdout",
     "output_type": "stream",
     "text": [
      "0\n",
      "1\n",
      "1\n",
      "2\n",
      "3\n",
      "5\n",
      "8\n",
      "13\n",
      "21\n",
      "34\n"
     ]
    }
   ],
   "source": [
    "for i in range (10):\n",
    "    print(next(fibonacci))"
   ]
  },
  {
   "cell_type": "markdown",
   "id": "1222c2e7-4190-4e9f-be6c-5bd2f0af5cca",
   "metadata": {},
   "source": [
    "### [Q5.] Create a generator function for prime numbers less than 1000. Use the next() method to print the first 20 prime numbers."
   ]
  },
  {
   "cell_type": "markdown",
   "id": "a1757c8d-52d7-4db0-9a72-536c65c431ad",
   "metadata": {},
   "source": [
    "#### [Ans]"
   ]
  },
  {
   "cell_type": "code",
   "execution_count": 1,
   "id": "b8436d4b-c588-4eaa-b660-48b7444fad73",
   "metadata": {},
   "outputs": [
    {
     "name": "stdout",
     "output_type": "stream",
     "text": [
      "2\n",
      "3\n",
      "5\n",
      "7\n",
      "11\n",
      "13\n",
      "17\n",
      "19\n",
      "23\n",
      "29\n",
      "31\n",
      "37\n",
      "41\n",
      "43\n",
      "47\n",
      "53\n",
      "59\n",
      "61\n",
      "67\n",
      "71\n"
     ]
    }
   ],
   "source": [
    "def prime_generator():\n",
    "    prime = 2 \n",
    "    while True:\n",
    "        c = 0\n",
    "        for i in range(2, prime):\n",
    "            if (prime % i == 0):\n",
    "                c += 1\n",
    "        if c == 0:\n",
    "            yield prime\n",
    "        prime += 1\n",
    "        \n",
    "prime_gen = prime_generator()\n",
    "for i in range(20):\n",
    "    primes = next(prime_gen)\n",
    "    print(primes)"
   ]
  },
  {
   "cell_type": "markdown",
   "id": "5d0eee5c-2a57-47d9-9991-1ae05fc6694d",
   "metadata": {},
   "source": [
    "### [Q6.] Write a python program to print the first 10 Fibonacci numbers using a while loop."
   ]
  },
  {
   "cell_type": "markdown",
   "id": "4d0d7e8f-2ecb-43c9-83a0-939ad48e997d",
   "metadata": {},
   "source": [
    "#### [Ans]"
   ]
  },
  {
   "cell_type": "code",
   "execution_count": 40,
   "id": "999d1f4f-e87a-4597-b31f-c7fd968d3f41",
   "metadata": {},
   "outputs": [],
   "source": [
    "def test6():\n",
    "    a,b = 0,1\n",
    "    while True:\n",
    "        yield a \n",
    "        a,b = b,a+b"
   ]
  },
  {
   "cell_type": "code",
   "execution_count": 41,
   "id": "02b9c806-2b64-482f-8736-33c63265da50",
   "metadata": {},
   "outputs": [],
   "source": [
    "fibonacci1 = test6()"
   ]
  },
  {
   "cell_type": "code",
   "execution_count": 42,
   "id": "0fd866a7-edd6-4a3c-a6f9-6520d380dd9d",
   "metadata": {},
   "outputs": [
    {
     "name": "stdout",
     "output_type": "stream",
     "text": [
      "0\n",
      "1\n",
      "1\n",
      "2\n",
      "3\n",
      "5\n",
      "8\n",
      "13\n",
      "21\n",
      "34\n"
     ]
    }
   ],
   "source": [
    "for i in range (10):\n",
    "    print(next(fibonacci1))"
   ]
  },
  {
   "cell_type": "markdown",
   "id": "d16d6b55-a62c-4e83-ad61-0c16b4016610",
   "metadata": {},
   "source": [
    "### [Q7.] Write a List Comprehension to iterate through the given string: ‘pwskills’. Expected output: ['p', 'w', 's', 'k', 'i', 'l', 'l', 's']"
   ]
  },
  {
   "cell_type": "code",
   "execution_count": 1,
   "id": "eff77a82-1f4a-4451-8c3d-aa90db74c3c7",
   "metadata": {},
   "outputs": [
    {
     "name": "stdout",
     "output_type": "stream",
     "text": [
      "['p', 'w', 's', 'k', 'i', 'l', 'l', 's']\n"
     ]
    }
   ],
   "source": [
    "string = \"pwskills\"\n",
    "string1 = iter(string)\n",
    "\n",
    "new_list = []\n",
    "for k in string1:\n",
    "    new_list.append(k)\n",
    "print(new_list)"
   ]
  },
  {
   "cell_type": "markdown",
   "id": "b8c0102f-e363-4a40-8439-07ab9c770a72",
   "metadata": {},
   "source": [
    "### [Q8.] Write a python program to check whether a given number is Palindrome or not using a while loop.\n"
   ]
  },
  {
   "cell_type": "code",
   "execution_count": 19,
   "id": "a539f815-1fda-4a4a-842b-d8dc097f153a",
   "metadata": {},
   "outputs": [
    {
     "name": "stdin",
     "output_type": "stream",
     "text": [
      "ENTER THE NUMBER : 45268\n"
     ]
    },
    {
     "name": "stdout",
     "output_type": "stream",
     "text": [
      "86254\n",
      "86254 :IT IS NOT A PALINDROME NUMBER\n"
     ]
    }
   ],
   "source": [
    "palin = int(input(\"ENTER THE NUMBER :\"))\n",
    "p = palin\n",
    "new = 0\n",
    "while (palin >= 1):\n",
    "    r = palin % 10\n",
    "    new = (new*10) + r\n",
    "    palin = palin // 10\n",
    "print (new)\n",
    "if p == new :\n",
    "        print(new, \":IT IS A PALINDROME NUMBER\")\n",
    "else :\n",
    "        print(new, \":IT IS NOT A PALINDROME NUMBER\")"
   ]
  },
  {
   "cell_type": "markdown",
   "id": "4e36d491-e546-42d4-ab36-4b26ea2fd119",
   "metadata": {},
   "source": [
    "### [Q9.] Write a code to print odd numbers from 1 to 100 using list comprehension."
   ]
  },
  {
   "cell_type": "code",
   "execution_count": null,
   "id": "a596e87c-cc79-4da8-ae1a-f107ec78ca04",
   "metadata": {},
   "outputs": [],
   "source": []
  },
  {
   "cell_type": "code",
   "execution_count": 42,
   "id": "ac59a576-8f31-47da-81d1-027d41fff09b",
   "metadata": {},
   "outputs": [
    {
     "name": "stdout",
     "output_type": "stream",
     "text": [
      "ODD NUMBERS : [1, 3, 5, 7, 9, 11, 13, 15, 17, 19, 21, 23, 25, 27, 29, 31, 33, 35, 37, 39, 41, 43, 45, 47, 49, 51, 53, 55, 57, 59, 61, 63, 65, 67, 69, 71, 73, 75, 77, 79, 81, 83, 85, 87, 89, 91, 93, 95, 97, 99]\n"
     ]
    }
   ],
   "source": [
    "lst = list(range(1,101))\n",
    "\n",
    "list1 = []\n",
    "for u in lst:\n",
    "    if u % 2 != 0 :\n",
    "        list1.append(u)\n",
    "print(\"ODD NUMBERS :\" , list1)"
   ]
  }
 ],
 "metadata": {
  "kernelspec": {
   "display_name": "Python 3 (ipykernel)",
   "language": "python",
   "name": "python3"
  },
  "language_info": {
   "codemirror_mode": {
    "name": "ipython",
    "version": 3
   },
   "file_extension": ".py",
   "mimetype": "text/x-python",
   "name": "python",
   "nbconvert_exporter": "python",
   "pygments_lexer": "ipython3",
   "version": "3.10.6"
  }
 },
 "nbformat": 4,
 "nbformat_minor": 5
}
