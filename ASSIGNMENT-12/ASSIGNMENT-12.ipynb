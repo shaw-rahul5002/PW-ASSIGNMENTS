{
 "cells": [
  {
   "cell_type": "markdown",
   "id": "55814e2a-e41d-4076-ab1d-d648730169b1",
   "metadata": {},
   "source": [
    "### [Q1.] What is a database? Differentiate between SQL and NoSQL databases."
   ]
  },
  {
   "cell_type": "markdown",
   "id": "83078b77-03fd-4372-bb28-be46300f3bb8",
   "metadata": {},
   "source": [
    "##### [Ans]\n",
    "A database is an organized collection of data that can be easily accessed, managed, and updated. It is used to store and manage information in an efficient and secure way.\n",
    "\n",
    "SQL databases are relational databases that store data in tables with predefined schema, while NOSQL databases are non-relational databases that store data in flexible, unstructed documents."
   ]
  },
  {
   "cell_type": "markdown",
   "id": "a41cca45-6a4b-4cca-8df3-8d48766a4752",
   "metadata": {},
   "source": [
    "### [Q2.] What is DDL? Explain why CREATE, DROP, ALTER, and TRUNCATE are used with an example."
   ]
  },
  {
   "cell_type": "markdown",
   "id": "afd09fc7-008a-4d2c-887f-6db83444c666",
   "metadata": {},
   "source": [
    "##### [Ans]\n",
    "DDL stands for Data Defination Language. It is a set of SQL commands used to define and manage the database structure and schema. It includes commands to create, alter, and drop tables and other database objects.\n",
    "\n",
    "CREATE :- CREATE is used to create a new database object, such as a table. For example, you use the CREATE TABLE command to create a new table named \"users\" with columns to the \"users\" table for age.\n",
    "\n",
    "DROP :- It is used to delete an existing database object, such as a table. For example, you can use the DROP TABLE command to delete the \"users\" table.\n",
    "\n",
    "TRUNCATE :- It is used to delete all the data from an existing table. For example, you can use TRUNCATE TABLE command to delete all the rows from the \"users\" table, but keep the table structure intact."
   ]
  },
  {
   "cell_type": "markdown",
   "id": "04058fcd-1eb9-4b0f-8918-053fca417d21",
   "metadata": {},
   "source": [
    "### [Q3.] What is DML? Explain INSERT, UPDATE, and DELETE with an example."
   ]
  },
  {
   "cell_type": "markdown",
   "id": "08923201-dc2f-4bf1-bbc0-238452a54e66",
   "metadata": {},
   "source": [
    "##### [Ans]\n",
    "DML stands for Data Manipulation Language. It is a set of SQL commands used to manipulate and query the data stored in a database. It includes commands to insert, update, delete, and select data from tables.\n",
    "\n",
    "INSERT :- It is used to add a new rows of data to an existing table. For example, you can use the INSERT INFO command to add a new user to the \"users\" table with the name \"John\", email \"john@gmail.com\", and password \"123345\"\n",
    "\n",
    "UPDATE :- It is used to modify existing data in a table. For example, you can use the UPDATE command to chamge the email address of the user with the ID of 1 in the \"users\" table to \"newemail@example.com\".\n",
    "\n",
    "DELETE :- It is used to remove data from a table. For example, you can use the DELETE FROM command to remove all the users from the \"users\" table who have not logged in for more than 6 months.\n"
   ]
  },
  {
   "cell_type": "markdown",
   "id": "b1a4a83f-94d2-497e-af66-da8f9c3eb378",
   "metadata": {},
   "source": [
    "### [Q4.] What is DQL? Explain SELECT with an example."
   ]
  },
  {
   "cell_type": "markdown",
   "id": "ce5aaec1-4f5f-47ff-b5a4-7fdc65d961cc",
   "metadata": {},
   "source": [
    "##### [Ans]\n",
    "DQL stands for Data Query Language. It is a set of SQL commands used to retrive data from a database.\n",
    "\n",
    "SELECT :- The most commonly used DQL command is SELECT, which is used to retrive data from one or more tables based on specific criteria. For example, you can use the SELECT command to retrive the names and emails addresses of all the users from the \"users\" table who have signed up in the last 30 days. "
   ]
  },
  {
   "cell_type": "markdown",
   "id": "f93ab83e-a790-48d9-8c60-3b2c18a0183a",
   "metadata": {},
   "source": [
    "### [Q5.] Explain Primary Key and Foreign Key."
   ]
  },
  {
   "cell_type": "markdown",
   "id": "70facc6f-b40a-42bf-a318-d3eb4717a22f",
   "metadata": {},
   "source": [
    "##### [Ans]\n",
    "PRIMARY KEY :- A primary key is a set of columns in a table that uniquely identifies each row of data in that table. It is used to enforce the integrity of the data by preventing duplicate or null values from being inserted into the table.\n",
    "\n",
    "FOREIGN KEY :- A foreign key is a set of columns in a table that refers to the primary key of another table,. It is used to create a relationship between two tables, allowing data to be linked and quried across multiples tables."
   ]
  },
  {
   "cell_type": "markdown",
   "id": "51b6b5a6-772e-4302-a63f-f9881182f5e3",
   "metadata": {},
   "source": [
    "### [Q6.] Write a python code to connect MySQL to python. Explain the cursor() and execute() method."
   ]
  },
  {
   "cell_type": "markdown",
   "id": "eeab35fe-b54b-4603-b159-67eb8df9e54d",
   "metadata": {},
   "source": [
    "##### [Ans]"
   ]
  },
  {
   "cell_type": "code",
   "execution_count": null,
   "id": "ab39f188-683c-41dc-ab84-9e7a49e2e995",
   "metadata": {},
   "outputs": [],
   "source": [
    "import mysql.connector\n",
    "mydb = mysql.connector.connect(\n",
    "    host = \"localhost\",\n",
    "    user = \"abc\",\n",
    "    password = \"password\"\n",
    ")\n",
    "mycursor = mydb.cursor()\n",
    "mycursor.execute(\"CREATE DATABASE if not exists test3\")\n",
    "mydb.close()"
   ]
  },
  {
   "cell_type": "markdown",
   "id": "b6e4e15b-903f-44bf-8ead-42f7e2e4c66d",
   "metadata": {},
   "source": [
    "CURSOR METHOD :- It is used to establish a cursor object in Python that allows you to interact with a database.\n",
    "\n",
    "EXE"
   ]
  },
  {
   "cell_type": "markdown",
   "id": "c8344d77-d396-45ea-8591-529f28fa2d25",
   "metadata": {},
   "source": [
    "### [Q7.] Give the order of execution of SQL clauses in an SQL query."
   ]
  },
  {
   "cell_type": "markdown",
   "id": "23cb07a8-9e44-4f26-83da-ecc95b36e9b1",
   "metadata": {},
   "source": [
    "##### [Ans]\n",
    "The order of execution of SQL clauses in a SQL query is as follows:\n",
    "\n",
    "[1.] FROM clause :- This clause specifies the tables from which the data is to be retrived.\n",
    "\n",
    "[2.] WHERE clause :- This clause filters the data based on specific conditions.\n",
    "\n",
    "[3.] GROUP BY clause :- This clause filters the data based on specific columns.\n",
    "\n",
    "[4.] HAVING clause :- This clause filters the grouped data based on specific.\n",
    "\n",
    "[5.] SELECT clause :- This clause selects the columns to be included in the result set.\n",
    "\n",
    "[6.] ORDER clause :- This clause sorts the result set based on specific columns.\n",
    "\n",
    "[7.] LIMIT clause :- This clause limits the number of rows returned by the query."
   ]
  },
  {
   "cell_type": "code",
   "execution_count": null,
   "id": "eef2452a-291d-487d-a986-0beb60d0fcad",
   "metadata": {},
   "outputs": [],
   "source": []
  }
 ],
 "metadata": {
  "kernelspec": {
   "display_name": "Python 3 (ipykernel)",
   "language": "python",
   "name": "python3"
  },
  "language_info": {
   "codemirror_mode": {
    "name": "ipython",
    "version": 3
   },
   "file_extension": ".py",
   "mimetype": "text/x-python",
   "name": "python",
   "nbconvert_exporter": "python",
   "pygments_lexer": "ipython3",
   "version": "3.10.6"
  }
 },
 "nbformat": 4,
 "nbformat_minor": 5
}
