{
 "cells": [
  {
   "cell_type": "markdown",
   "id": "f687a0ce-1a2c-4cec-ae8a-d18953e7717e",
   "metadata": {},
   "source": [
    "### [Q1.] What is multiprocessing in python? Why is it useful?"
   ]
  },
  {
   "cell_type": "markdown",
   "id": "3086247d-9cbb-4b3e-ba77-62d6db8e6686",
   "metadata": {},
   "source": [
    "#### [Ans]\n",
    "In Python, nultiprocessing is a module that provides a way to run multiple processes in parallel on a computer with multiple CPUs or cores.\n",
    "\n",
    "Multiprocessing cab be used to speed up computationally intensive tasks, such as image processing, machine learning, and numerical simulations, by running them in parallel across multiple CPUs or cores"
   ]
  },
  {
   "cell_type": "markdown",
   "id": "b933c205-b4ee-40a2-a22f-6f72e69d7f63",
   "metadata": {},
   "source": [
    "### [Q2.] What are the differences between multiprocessing and multithreading?"
   ]
  },
  {
   "cell_type": "markdown",
   "id": "0e802f62-47af-4ac1-bad8-ee7b4d8ef543",
   "metadata": {},
   "source": [
    "#### [Ans]\n",
    "The main difference betweeen multiprocessing and multithreading is that multiprocessing involves running multiple processes in parallel, while multithreading involves running multiple threads within a single process."
   ]
  },
  {
   "cell_type": "markdown",
   "id": "b8fa7b36-3b40-48a0-9162-794aef81fdf3",
   "metadata": {},
   "source": [
    "### [Q3.] Write a python code to create a process using the multiprocessing module."
   ]
  },
  {
   "cell_type": "markdown",
   "id": "3fd33fcb-d753-4e5a-9f50-90553b6264ba",
   "metadata": {},
   "source": [
    "#### [Ans]"
   ]
  },
  {
   "cell_type": "code",
   "execution_count": 5,
   "id": "d8b12e11-46a7-45e7-9ce9-76153bdf175a",
   "metadata": {},
   "outputs": [
    {
     "name": "stdout",
     "output_type": "stream",
     "text": [
      "WORKER PROCESS START\n",
      "WORKER PROCESS FINISHED\n"
     ]
    }
   ],
   "source": [
    "import multiprocessing\n",
    "def worker():\n",
    "    print(\"WORKER PROCESS START\")\n",
    "    print(\"WORKER PROCESS FINISHED\")\n",
    "    \n",
    "if __name__ == '__main__':\n",
    "    p = multiprocessing.Process(target=worker)\n",
    "    p.start()\n",
    "    p.join()"
   ]
  },
  {
   "cell_type": "markdown",
   "id": "3dc9932c-b9a2-4051-bd0c-1d694dec4f3a",
   "metadata": {},
   "source": [
    "### [Q4.] What is a multiprocessing pool in python? Why is it used?"
   ]
  },
  {
   "cell_type": "markdown",
   "id": "82efb428-ba2e-45c1-bd2f-c10def00c977",
   "metadata": {},
   "source": [
    "#### [Ans]\n",
    "A multiprocessing pool in Python pool is a way to create a group of worker processes that can execute tasks in parallel. The 'multiprocesssing.Pool'class a pool of worker processes and distribute tasks among them.\n",
    "\n",
    "The multiprocessing pool is used when we have a large number of tasks that can be executed independently of each other."
   ]
  },
  {
   "cell_type": "markdown",
   "id": "fbfdfff3-b129-4a73-a344-1a623e5f8c6b",
   "metadata": {},
   "source": [
    "### [Q5.] How can we create a pool of worker processes in python using the multiprocessing module?"
   ]
  },
  {
   "cell_type": "markdown",
   "id": "0846b63d-bbb2-435b-b12e-a4c4e70ec17e",
   "metadata": {},
   "source": [
    "#### [Ans]"
   ]
  },
  {
   "cell_type": "code",
   "execution_count": 4,
   "id": "1617a905-761f-48dd-8d62-e727e0549492",
   "metadata": {},
   "outputs": [
    {
     "name": "stdout",
     "output_type": "stream",
     "text": [
      "[1, 4, 9, 16, 25, 36, 49, 64, 81]\n"
     ]
    }
   ],
   "source": [
    "import multiprocessing\n",
    "def square(x):\n",
    "    return x*x\n",
    "\n",
    "if __name__ == '__main__':\n",
    "    pool = multiprocessing.Pool(processes=4)\n",
    "    results = pool.map(square,[1,2,3,4,5,6,7,8,9])\n",
    "    print(results)"
   ]
  },
  {
   "cell_type": "markdown",
   "id": "9e8af099-3e88-44b2-ae35-120153e67fc8",
   "metadata": {},
   "source": [
    "### [Q6.] Write a python program to create 4 processes, each process should print a different number using the multiprocessing module in python."
   ]
  },
  {
   "cell_type": "markdown",
   "id": "cb1dee38-5044-4820-8307-7b311cc6d2e0",
   "metadata": {},
   "source": [
    "#### [Ans]"
   ]
  },
  {
   "cell_type": "code",
   "execution_count": 11,
   "id": "fa908eab-8df0-4209-8217-a03cc3db275e",
   "metadata": {},
   "outputs": [
    {
     "name": "stdout",
     "output_type": "stream",
     "text": [
      "7968\n",
      "\n",
      "\n",
      "\n",
      "[None, None, None, None]\n"
     ]
    }
   ],
   "source": [
    "import multiprocessing\n",
    "def print_number(num):\n",
    "    print(num)\n",
    "    \n",
    "if __name__ == '__main__':\n",
    "    processes = []\n",
    "    for i in range(4):\n",
    "        r = multiprocessing.Process(target=print_number, args=(i+1,))\n",
    "        processes.appe"
   ]
  },
  {
   "cell_type": "code",
   "execution_count": null,
   "id": "602ee8de-15a7-4b12-91f8-0948cad99c85",
   "metadata": {},
   "outputs": [],
   "source": []
  }
 ],
 "metadata": {
  "kernelspec": {
   "display_name": "Python 3 (ipykernel)",
   "language": "python",
   "name": "python3"
  },
  "language_info": {
   "codemirror_mode": {
    "name": "ipython",
    "version": 3
   },
   "file_extension": ".py",
   "mimetype": "text/x-python",
   "name": "python",
   "nbconvert_exporter": "python",
   "pygments_lexer": "ipython3",
   "version": "3.10.6"
  }
 },
 "nbformat": 4,
 "nbformat_minor": 5
}
