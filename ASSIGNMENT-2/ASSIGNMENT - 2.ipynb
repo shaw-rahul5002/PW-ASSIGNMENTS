{
 "cells": [
  {
   "cell_type": "markdown",
   "id": "dea629ed-68e1-465a-b6ef-93d7503a688e",
   "metadata": {
    "tags": []
   },
   "source": [
    "### [Q1.] How do you comment code in Python? What are the different types of comments?"
   ]
  },
  {
   "cell_type": "markdown",
   "id": "bc80621b-9fec-4178-ba1a-993fec0d89be",
   "metadata": {
    "tags": []
   },
   "source": [
    "#### [Ans]\n",
    "To comment code in python we can simply use '#' symbol. Anything after the '#' symbol on the same line will be considered a comment.\n",
    "\n",
    "There are primarily two types of comments in python :\n",
    "\n",
    "(i) Single-lined comment - These comments are used to provide a brief explanation or clarification on a single line of code,\n",
    "\n",
    "(ii) Multi-lined comments - These comments are used to add esplanations or documentation that span multiple lines."
   ]
  },
  {
   "cell_type": "markdown",
   "id": "4e6e543d-f517-40ea-b1d5-e5493f9f57df",
   "metadata": {
    "tags": []
   },
   "source": [
    "### [Q2.] What are variables in Python? How do you declare and assign values to variables?"
   ]
  },
  {
   "cell_type": "markdown",
   "id": "e5875309-c33a-440b-a6cc-6a68c78b7fd5",
   "metadata": {
    "tags": []
   },
   "source": [
    "#### [Ans]\n",
    "In pyhton variables are used to store and represent data. They act as container that can hold different types of values such as numbers , strings , or more complex data structures."
   ]
  },
  {
   "cell_type": "code",
   "execution_count": 14,
   "id": "d43f65cd-b64e-40b6-8e35-cf840124e514",
   "metadata": {},
   "outputs": [],
   "source": [
    "# To declare and assign values to variables in python, you can use the following syntax:\n",
    "\n",
    "variable_name = 'rahul'"
   ]
  },
  {
   "cell_type": "markdown",
   "id": "bccaff02-eba3-4d4a-82bb-801eb68eb6d2",
   "metadata": {
    "tags": []
   },
   "source": [
    "### [Q3.] How do you convert one data type to another in Python?"
   ]
  },
  {
   "cell_type": "markdown",
   "id": "7eaa17c9-13e8-4261-af40-37b7e38ed66f",
   "metadata": {
    "tags": []
   },
   "source": [
    "#### [Ans]\n",
    "In python , we can convert one data type to another using various built-in functions,"
   ]
  },
  {
   "cell_type": "code",
   "execution_count": 10,
   "id": "649a2eeb-bcea-478f-8c38-b48d52d88bff",
   "metadata": {},
   "outputs": [
    {
     "name": "stdout",
     "output_type": "stream",
     "text": [
      "100\n"
     ]
    }
   ],
   "source": [
    "#Here are example of int to str :\n",
    "\n",
    "number = 100\n",
    "number_str = str(number)\n",
    "print (number_str)"
   ]
  },
  {
   "cell_type": "markdown",
   "id": "bbd3f915-0905-4f3c-953a-c342e13a1eb2",
   "metadata": {
    "tags": []
   },
   "source": [
    "### [Q4.] How do you write and execute a Python script from the command line?"
   ]
  },
  {
   "cell_type": "markdown",
   "id": "2a31445f-9d25-4308-83a9-819ec7d43974",
   "metadata": {},
   "source": [
    "#### [Ans]\n",
    "To write and execute a Python script from the command line , follow these steps:\n",
    "\n",
    "(1) Open a text editor and create a new file. For example, you can use a command-line text editor like Vim or a graphical editor like Notepad or Sublime Text.\n",
    "\n",
    "(2) Write your Python code in the file. For example, let's create a simple script that prints \"Hello, World!\":\n",
    "print(\"Hello, World!\")\n",
    "\n",
    "(3) Save the file with a .py extension. For example, save the file as hello.py.\n",
    "\n",
    "(4) Open a command prompt or terminal window.\n",
    "\n",
    "(5) Navigate to the directory where you saved the Python script using the cd command. For example, if the script is saved in the Documents folder, use the following command: cd Documents\n",
    "\n",
    "(6) Execute the Python script using the python command followed by the script's file name. For example: python hello.py\n",
    "\n",
    "(7) Press Enter to run the command. The Python script will be executed, and you will see the output in the terminal: Hello, World!"
   ]
  },
  {
   "cell_type": "markdown",
   "id": "b1eeff9f-6c27-413d-9182-3eeaece14790",
   "metadata": {
    "tags": []
   },
   "source": [
    "### [Q5.] Given a list my_list = [1, 2, 3, 4, 5], write the code to slice the list and obtain the sub-list [2, 3]."
   ]
  },
  {
   "cell_type": "code",
   "execution_count": 18,
   "id": "20986f01-aad4-47c8-9b33-dded61a11148",
   "metadata": {},
   "outputs": [
    {
     "name": "stdout",
     "output_type": "stream",
     "text": [
      "[2, 3]\n"
     ]
    }
   ],
   "source": [
    "my_list = [1,2,3,4,5]\n",
    "sub_list = my_list[1:3]\n",
    "print(sub_list)"
   ]
  },
  {
   "cell_type": "markdown",
   "id": "c2429357-16c8-4346-b5ec-c69e20a41d31",
   "metadata": {
    "tags": []
   },
   "source": [
    "### [Q6.] What is a complex number in mathematics, and how is it represented in Python?"
   ]
  },
  {
   "cell_type": "markdown",
   "id": "f54f82d4-577e-454b-b0ac-e5afc4c7b1d8",
   "metadata": {
    "jp-MarkdownHeadingCollapsed": true,
    "tags": []
   },
   "source": [
    "#### [Ans]\n",
    "In mathematics , a comlpex number is a number that comprises both a real part and an imaginary part.\n",
    "\n",
    "In python it is represented as \"5 + 6j\" , where, '5' is the real number and '6j' is the imaginary number."
   ]
  },
  {
   "cell_type": "code",
   "execution_count": 19,
   "id": "360bee46-36ee-4906-bd79-969ddc7a2fda",
   "metadata": {},
   "outputs": [],
   "source": [
    "# complex number respresentation in python:\n",
    "var = 5 + 6j"
   ]
  },
  {
   "cell_type": "code",
   "execution_count": 20,
   "id": "ef00ce6b-1bcf-4145-a4c7-d90426df565d",
   "metadata": {},
   "outputs": [
    {
     "data": {
      "text/plain": [
       "complex"
      ]
     },
     "execution_count": 20,
     "metadata": {},
     "output_type": "execute_result"
    }
   ],
   "source": [
    "type(var)"
   ]
  },
  {
   "cell_type": "code",
   "execution_count": 21,
   "id": "91dde3f1-0317-41ea-8ba4-c96a3b52f38c",
   "metadata": {},
   "outputs": [
    {
     "data": {
      "text/plain": [
       "5.0"
      ]
     },
     "execution_count": 21,
     "metadata": {},
     "output_type": "execute_result"
    }
   ],
   "source": [
    "var.real"
   ]
  },
  {
   "cell_type": "code",
   "execution_count": 22,
   "id": "2b65e77d-7753-4784-b076-6ed22ed7fe5b",
   "metadata": {},
   "outputs": [
    {
     "data": {
      "text/plain": [
       "6.0"
      ]
     },
     "execution_count": 22,
     "metadata": {},
     "output_type": "execute_result"
    }
   ],
   "source": [
    "var.imag"
   ]
  },
  {
   "cell_type": "markdown",
   "id": "d53dadab-e183-40a4-8947-d0f90bed30e9",
   "metadata": {
    "tags": []
   },
   "source": [
    "### [Q7.] What is the correct way to declare a variable named age and assign the value 25 to it?"
   ]
  },
  {
   "cell_type": "code",
   "execution_count": 23,
   "id": "ddbda6e7-59f6-4cde-906c-47da47789d6d",
   "metadata": {},
   "outputs": [],
   "source": [
    "age = 25 "
   ]
  },
  {
   "cell_type": "code",
   "execution_count": 24,
   "id": "c89899d5-d48c-4404-b135-613e05c53ec7",
   "metadata": {},
   "outputs": [
    {
     "data": {
      "text/plain": [
       "25"
      ]
     },
     "execution_count": 24,
     "metadata": {},
     "output_type": "execute_result"
    }
   ],
   "source": [
    "age"
   ]
  },
  {
   "cell_type": "markdown",
   "id": "ecaae7f0-6b6f-4b9f-97f1-e26050fb602b",
   "metadata": {
    "tags": []
   },
   "source": [
    "### [Q8.] Declare a variable named price and assign the value 9.99 to it. What data type does this variable belomg to?\n"
   ]
  },
  {
   "cell_type": "markdown",
   "id": "b6d0507c-22f2-40e2-a0aa-672a71e9ec02",
   "metadata": {},
   "source": [
    " If we declare a variable named price and assign the value 9.99 to it , its data type will be 'float' ,  as follows :"
   ]
  },
  {
   "cell_type": "markdown",
   "id": "c61d6491-a0f2-4024-a95b-075beb006a24",
   "metadata": {},
   "source": [
    "price = 9.99"
   ]
  },
  {
   "cell_type": "code",
   "execution_count": 26,
   "id": "f26fbc0f-015e-47f4-a77a-c93991b5a80b",
   "metadata": {},
   "outputs": [
    {
     "data": {
      "text/plain": [
       "float"
      ]
     },
     "execution_count": 26,
     "metadata": {},
     "output_type": "execute_result"
    }
   ],
   "source": [
    "type(price)"
   ]
  },
  {
   "cell_type": "markdown",
   "id": "1543087f-0af2-4bc4-9a55-f5262f964de9",
   "metadata": {
    "tags": []
   },
   "source": [
    "### [Q9.] Create a variable named name and assign your full name to it as a string. How would you print the value of this variable?"
   ]
  },
  {
   "cell_type": "code",
   "execution_count": 27,
   "id": "31c92937-81a6-4591-9f55-c08a413ffda0",
   "metadata": {},
   "outputs": [],
   "source": [
    "name = \"Rahul Shaw\""
   ]
  },
  {
   "cell_type": "markdown",
   "id": "708c393c-090d-4cae-a70b-2fe475b8d941",
   "metadata": {},
   "source": [
    "In the above code , the variable 'name' is declared and assigned the string values \"Rahul Shaw\" , which represent as full name.\n",
    "\n",
    "To print the values of the 'name' variable , you can use the 'print()' function as follows:"
   ]
  },
  {
   "cell_type": "code",
   "execution_count": 28,
   "id": "b590c10b-1b1b-4dae-956e-149bce646a4a",
   "metadata": {},
   "outputs": [
    {
     "name": "stdout",
     "output_type": "stream",
     "text": [
      "Rahul Shaw\n"
     ]
    }
   ],
   "source": [
    "print(name)"
   ]
  },
  {
   "cell_type": "markdown",
   "id": "9cd0b46c-9a51-47b5-a7a4-7dbc64858e52",
   "metadata": {
    "tags": []
   },
   "source": [
    "### [Q10.] Given the string \"Hello, World!\", extract the substring \"World\"."
   ]
  },
  {
   "cell_type": "code",
   "execution_count": 30,
   "id": "abd84b4b-1180-470f-89a4-cad950aaa6c1",
   "metadata": {},
   "outputs": [
    {
     "name": "stdout",
     "output_type": "stream",
     "text": [
      "World\n"
     ]
    }
   ],
   "source": [
    "string = \"Hello, World!\"\n",
    "substring = string[7:12]\n",
    "print(substring)"
   ]
  },
  {
   "cell_type": "markdown",
   "id": "1622f649-8f57-48ef-abc3-e32381d22d72",
   "metadata": {
    "tags": []
   },
   "source": [
    "### [Q11.] Create a variable named \"is_student\" and assign it a boolean value indicating whether you are currently a student or not."
   ]
  },
  {
   "cell_type": "code",
   "execution_count": 31,
   "id": "cb6c301b-d4f8-4be5-8bc1-2be5c48dc8ac",
   "metadata": {},
   "outputs": [],
   "source": [
    "is_student = True"
   ]
  }
 ],
 "metadata": {
  "kernelspec": {
   "display_name": "Python 3 (ipykernel)",
   "language": "python",
   "name": "python3"
  },
  "language_info": {
   "codemirror_mode": {
    "name": "ipython",
    "version": 3
   },
   "file_extension": ".py",
   "mimetype": "text/x-python",
   "name": "python",
   "nbconvert_exporter": "python",
   "pygments_lexer": "ipython3",
   "version": "3.10.6"
  }
 },
 "nbformat": 4,
 "nbformat_minor": 5
}
